{
 "cells": [
  {
   "cell_type": "markdown",
   "metadata": {},
   "source": [
    "# 1. The Coin-Flipping Experiment\n",
    "Read through the coin-flipping example given by Do and Batzoglou (2008). In the coin-flipping example, there are two coins with different biases in a bag. One coin is much more likely to come up with heads than the other. To create the data:\n",
    "\n",
    "1. Reach into the bag and pull out a coin.\n",
    "2. Flip that coin many times, and record both the number of heads and the number of throws.\n",
    "3. Return the coin to the bag and repeat.\n",
    "\n",
    "Notice that we never find out the identity of the coin we are flipping, but we do try to infer it."
   ]
  },
  {
   "cell_type": "code",
   "execution_count": 2,
   "metadata": {},
   "outputs": [],
   "source": [
    "import numpy as np\n",
    "import math\n",
    "import scipy.stats as sts"
   ]
  },
  {
   "cell_type": "code",
   "execution_count": 3,
   "metadata": {},
   "outputs": [],
   "source": [
    "#Observed data from the procedure outlined in the instruction\n",
    "heads = [14, 33, 19, 10, 0, 17, 24, 17, 1, 36, 5, 6, 5, 13, 4, 35, 5, 5, 74, 34]\n",
    "throws = [41, 43, 23, 23, 1, 23, 36, 37, 2, 131, 5, 29, 13, 47, 10, 58, 15, 14, 100, 113]"
   ]
  },
  {
   "cell_type": "code",
   "execution_count": 4,
   "metadata": {},
   "outputs": [
    {
     "name": "stdout",
     "output_type": "stream",
     "text": [
      "0.46727748691099474 0.46727748691099474\n",
      "0.46727748691099474 0.46727748691099474\n"
     ]
    }
   ],
   "source": [
    "#Initializing thetas based on prior that one coin is significantly more likely to show heads\n",
    "theta_a = 0.5\n",
    "theta_b = 0.5\n",
    "\n",
    "#Set up convergence criteria\n",
    "delta = 0.0001\n",
    "change = 1\n",
    "while change>delta:\n",
    "    \n",
    "    #Initialize counters\n",
    "    heads_a = 0\n",
    "    throws_a = 0\n",
    "    \n",
    "    heads_b = 0\n",
    "    throws_b = 0\n",
    "    #Estimate probability of each coin being used for each series of flips\n",
    "    #and weight the observed data by these prob. Known as the \"Expectation step\".\n",
    "    for i in range(len(throws)):\n",
    "        #Probability of observed data, given our current thetas\n",
    "        p_theta_a = sts.binom.pmf(heads[i], throws[i], theta_a)\n",
    "        p_theta_b = sts.binom.pmf(heads[i], throws[i], theta_b)\n",
    "\n",
    "        #Normalizing probabilities\n",
    "        normalizing_constant = (p_theta_a+p_theta_b)\n",
    "        p_theta_a /= normalizing_constant\n",
    "        p_theta_b /= normalizing_constant\n",
    "\n",
    "        #Incrementing counts, weighted by probabilities\n",
    "        heads_a += p_theta_a*heads[i]\n",
    "        throws_a +=  p_theta_a*throws[i]\n",
    "\n",
    "        heads_b +=  p_theta_b*heads[i]\n",
    "        throws_b += p_theta_b*throws[i]\n",
    "        \n",
    "    #Recording the size of the change in theta estimates, used to check convergence\n",
    "    change = max(abs(heads_a/throws_a - theta_a), abs(heads_b/throws_b - theta_b))\n",
    "\n",
    "    #Updating thetas based on total counts\n",
    "    #Known as the \"Maximisation step\"\n",
    "    theta_a = heads_a/throws_a\n",
    "    theta_b = heads_b/throws_b\n",
    "    \n",
    "    #Print change between each iteration\n",
    "    #We know the direction of change should be constant, \n",
    "    #thus this allows for spotting of implementation error\n",
    "    print(theta_a, theta_b)"
   ]
  },
  {
   "cell_type": "code",
   "execution_count": 5,
   "metadata": {},
   "outputs": [
    {
     "name": "stdout",
     "output_type": "stream",
     "text": [
      "bias of coin a: 0.467 \n",
      "bias of coin b: 0.467\n"
     ]
    }
   ],
   "source": [
    "print(\"bias of coin a:\", np.round(theta_a, 3), \"\\nbias of coin b:\", np.round(theta_b, 3))"
   ]
  },
  {
   "cell_type": "code",
   "execution_count": null,
   "metadata": {},
   "outputs": [],
   "source": []
  }
 ],
 "metadata": {
  "kernelspec": {
   "display_name": "Python 3",
   "language": "python",
   "name": "python3"
  },
  "language_info": {
   "codemirror_mode": {
    "name": "ipython",
    "version": 3
   },
   "file_extension": ".py",
   "mimetype": "text/x-python",
   "name": "python",
   "nbconvert_exporter": "python",
   "pygments_lexer": "ipython3",
   "version": "3.6.9"
  }
 },
 "nbformat": 4,
 "nbformat_minor": 2
}
