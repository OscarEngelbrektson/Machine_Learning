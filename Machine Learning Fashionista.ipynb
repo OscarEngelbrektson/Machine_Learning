{
 "cells": [
  {
   "cell_type": "markdown",
   "metadata": {},
   "source": [
    "# Assignment 3 - Machine Learning Fashionista\n",
    "## Oscar Engelbrektson\n",
    "## CS156, Prof. Albrecht, Fall 2019"
   ]
  },
  {
   "cell_type": "markdown",
   "metadata": {},
   "source": [
    "Using a dataset with pictures of Men's clothing and Women's clothing from Image Net (used in class 4.1), we examine three approaches to building a  binary classifier to discern men's shirts from women's shirts. The three approaches are Logistic Regression, dimensionality reduction using PCA followed by Logistic regression, and dimensionality reduction using LDA followed by Logistic regression. The aim is to determine which classifier is best suited to the task.\n",
    "\n",
    "As there is no reason to prefer one type of error to another (it is no better to get a women's shirt right than it is a man's, and vice versa), the metric by which we evaluate these different approaches will be test set accuracy–the proportion of test set pictures correctly classified by the model.\n",
    "\n",
    "Before any model fitting is performed, the pictures are resized programmatically so that they all have the same dimensionality. The same train-test split is used for all models."
   ]
  },
  {
   "cell_type": "code",
   "execution_count": 2,
   "metadata": {},
   "outputs": [],
   "source": [
    "from PIL import Image\n",
    "import PIL.ImageOps\n",
    "\n",
    "from collections import defaultdict\n",
    "import glob\n",
    "from random import shuffle, seed\n",
    "import numpy as np\n",
    "import pylab as pl\n",
    "import pandas as pd\n",
    "import re"
   ]
  },
  {
   "cell_type": "markdown",
   "metadata": {},
   "source": [
    "# Import image datasets"
   ]
  },
  {
   "cell_type": "code",
   "execution_count": 3,
   "metadata": {},
   "outputs": [],
   "source": [
    "#Code adapted from https://github.com/joelgrus/shirts/blob/master/visuals.py\n",
    "\n",
    "STANDARD_SIZE = (138,138)\n",
    "HALF_SIZE = (STANDARD_SIZE[0]/2,STANDARD_SIZE[1]/2)\n",
    "\n",
    "def img_to_array(filename):\n",
    "    \"\"\"\n",
    "    takes a filename and turns it into a numpy array of RGB pixels\n",
    "    \"\"\"\n",
    "    img = Image.open(filename)\n",
    "    img = img.resize(STANDARD_SIZE)\n",
    "    img = list(img.getdata())\n",
    "    #img = map(list, img)s\n",
    "    img = np.array(img)\n",
    "    s = img.shape[0] * img.shape[1]\n",
    "    img_wide = img.reshape(1, s)\n",
    "    return img_wide[0]\n",
    "\n",
    "# my files are set up like \"images/girls/gapkids/image1.jpg\" and \"images/boys/oldnavy/image1.jpg\"\n",
    "woman_files = glob.glob(\"/Users/oscarengelbrektson/Downloads/Woman's Clothing - n04596852/*\")\n",
    "man_files = glob.glob(\"/Users/oscarengelbrektson/Downloads/Man's Clothing - n03746330/*\")\n",
    "\n",
    "process_file = img_to_array\n",
    "\n",
    "#Take the 100 first jerseys and 100 first shirts and make a dataset\n",
    "raw_data = [(process_file(woman_files[i]), 'woman')for i in range(10)] + \\\n",
    "           [(process_file(man_files[i]), 'man')for i in range(10)]"
   ]
  },
  {
   "cell_type": "code",
   "execution_count": 4,
   "metadata": {},
   "outputs": [
    {
     "data": {
      "text/plain": [
       "(57132,)"
      ]
     },
     "execution_count": 4,
     "metadata": {},
     "output_type": "execute_result"
    }
   ],
   "source": [
    "#Checking the shape the array representation of an observation\n",
    "raw_data[0][0].shape"
   ]
  },
  {
   "cell_type": "code",
   "execution_count": 5,
   "metadata": {},
   "outputs": [],
   "source": [
    "#Looking at some of the pictures in the respective datasets\n",
    "for i in range(10):\n",
    "    Image.open(woman_files[i]).show()\n",
    "    Image.open(man_files[i]).show()"
   ]
  },
  {
   "cell_type": "markdown",
   "metadata": {},
   "source": [
    "Do note that the quality of both mens and womans data set are of poor quality. The picture vary greatly accross most high-level dimensions I can think of: the position of the shirts, the lighting, whether it is worn by a paerson or not, the angle, and so on. This does not bode well for classification performance, as unnestling patterns in this data seems much more challenging than would have been the case had the picture format been more standardized."
   ]
  },
  {
   "cell_type": "markdown",
   "metadata": {},
   "source": [
    "# Define training and test sets"
   ]
  },
  {
   "cell_type": "code",
   "execution_count": 150,
   "metadata": {},
   "outputs": [],
   "source": [
    "# randomly order the data\n",
    "import random\n",
    "seed(0)\n",
    "shuffle(raw_data)\n",
    "\n",
    "# pull out the features and the labels\n",
    "data = np.array([cd for (cd,_y) in raw_data])\n",
    "labels = np.array([_y for (cd,_y) in raw_data])\n",
    "\n",
    "from sklearn.model_selection import train_test_split\n",
    "X_train,X_test,y_train,y_test = train_test_split(data,labels,test_size=0.2,random_state=25)"
   ]
  },
  {
   "cell_type": "code",
   "execution_count": 115,
   "metadata": {},
   "outputs": [
    {
     "name": "stdout",
     "output_type": "stream",
     "text": [
      "(1600, 57132)\n",
      "(400, 57132)\n"
     ]
    }
   ],
   "source": [
    "#shape of train and test objects\n",
    "print(X_train.shape)\n",
    "print(X_test.shape)"
   ]
  },
  {
   "cell_type": "code",
   "execution_count": 116,
   "metadata": {},
   "outputs": [
    {
     "name": "stdout",
     "output_type": "stream",
     "text": [
      "(1600,)\n",
      "(400,)\n"
     ]
    }
   ],
   "source": [
    "# shape of new y objects\n",
    "print(y_train.shape)\n",
    "print(y_test.shape)"
   ]
  },
  {
   "cell_type": "markdown",
   "metadata": {},
   "source": [
    "# 1. Simple linear classifier using the original pixel data"
   ]
  },
  {
   "cell_type": "code",
   "execution_count": 117,
   "metadata": {},
   "outputs": [],
   "source": [
    "from sklearn.linear_model import LogisticRegression\n",
    "from sklearn.model_selection import cross_validate\n",
    "from sklearn.metrics import accuracy_score"
   ]
  },
  {
   "cell_type": "markdown",
   "metadata": {},
   "source": [
    "### Using cross validation to select hyperparameter C"
   ]
  },
  {
   "cell_type": "code",
   "execution_count": 118,
   "metadata": {},
   "outputs": [],
   "source": [
    "#List of different values to try for the regularization parameter C\n",
    "c_values = [0.001,0.01,0.1,1,10,100]\n",
    "accuracy_list = []\n",
    "\n",
    "#Calculating validation set accuracy for each value of c\n",
    "for k in c_values:\n",
    "    model = LogisticRegression(C=k, solver=\"lbfgs\", max_iter=5000)\n",
    "    cv_results = cross_validate(model, X_train, y_train,\n",
    "                            scoring=['accuracy'], cv=5)\n",
    "    \n",
    "    #Store average accuracy accross the five splits\n",
    "    accuracy_list.append(np.mean(cv_results['test_accuracy']))"
   ]
  },
  {
   "cell_type": "markdown",
   "metadata": {},
   "source": [
    "### Visualizing the results"
   ]
  },
  {
   "cell_type": "code",
   "execution_count": 119,
   "metadata": {},
   "outputs": [
    {
     "data": {
      "image/png": "[encoded data removed]",
      "text/plain": [
       "<Figure size 432x288 with 1 Axes>"
      ]
     },
     "metadata": {
      "needs_background": "light"
     },
     "output_type": "display_data"
    }
   ],
   "source": [
    "import matplotlib.pyplot as plt\n",
    "%matplotlib inline\n",
    "\n",
    "#Using a loged x-axis as the c values differ by an order of magnitude each\n",
    "plt.semilogx(c_values, accuracy_list, label=\"Accuracy\")\n",
    "plt.legend(loc=0)\n",
    "plt.xlabel('Value of C for Logistic Regression')\n",
    "plt.ylabel('Accuracy')\n",
    "plt.show()"
   ]
  },
  {
   "cell_type": "markdown",
   "metadata": {},
   "source": [
    "### Evaluating performance on the test set"
   ]
  },
  {
   "cell_type": "code",
   "execution_count": 151,
   "metadata": {},
   "outputs": [
    {
     "name": "stdout",
     "output_type": "stream",
     "text": [
      "train set accuracy: 1.0\n",
      "test set accuracy: 0.6375\n"
     ]
    }
   ],
   "source": [
    "#Selecting c=0.01 as it has the highest average accuracy,\n",
    "model = LogisticRegression(C=0.01, solver=\"lbfgs\", max_iter=5000)\n",
    "model.fit(X_train,y_train)\n",
    "\n",
    "#Making prediction on the seen training data \n",
    "y_pred=model.predict(X_train)\n",
    "print(\"train set accuracy:\", accuracy_score(y_train,y_pred))\n",
    "\n",
    "#Making prediction on the unseen test data \n",
    "y_pred=model.predict(X_test)\n",
    "print(\"test set accuracy:\", accuracy_score(y_test,y_pred))"
   ]
  },
  {
   "cell_type": "markdown",
   "metadata": {},
   "source": [
    "# 2. Pre-processing data using PCA, then applying the same classifier"
   ]
  },
  {
   "cell_type": "code",
   "execution_count": 121,
   "metadata": {},
   "outputs": [
    {
     "data": {
      "image/png": "[encoded data removed]",
      "text/plain": [
       "<Figure size 432x288 with 1 Axes>"
      ]
     },
     "metadata": {
      "needs_background": "light"
     },
     "output_type": "display_data"
    }
   ],
   "source": [
    "from sklearn.decomposition import PCA\n",
    "X_train,X_test,y_train,y_test = train_test_split(data,labels,test_size=0.2,random_state=25)\n",
    "\n",
    "pca = PCA(random_state=0)\n",
    "X = pca.fit_transform(X_train)\n",
    "y = y_train\n",
    "\n",
    "#Getting a sense for the by plotting the Cumulative Summation of the Explained Variance\n",
    "#This informs the values tested in CV\n",
    "plt.figure()\n",
    "plt.plot(np.cumsum(pca.explained_variance_ratio_))\n",
    "plt.xlabel('Number of Components')\n",
    "plt.ylabel('Variance (%)') #for each component\n",
    "plt.title('Proportion of Total Variance Explained ')\n",
    "plt.show()"
   ]
  },
  {
   "cell_type": "markdown",
   "metadata": {},
   "source": [
    "### Using cross validation to select the number of principal components to use"
   ]
  },
  {
   "cell_type": "code",
   "execution_count": 122,
   "metadata": {},
   "outputs": [],
   "source": [
    "n_components = [x for x in range(1, 200, 10)] \n",
    "accuracy_list = []\n",
    "\n",
    "for k in n_components:\n",
    "    X_train,X_test,y_train,y_test = train_test_split(data,labels,test_size=0.2,random_state=25)\n",
    "    pca = PCA(n_components=k, random_state=0)\n",
    "    X_train = pca.fit_transform(X_train)\n",
    "    X_test = pca.transform(X_test)\n",
    "\n",
    "    model = LogisticRegression(C=10, solver=\"lbfgs\", max_iter=20000)\n",
    "    cv_results = cross_validate(model, X_train, y_train,\n",
    "                            scoring=['accuracy'], cv=5)\n",
    "    \n",
    "    #Store average accuracy accross the five splits\n",
    "    accuracy_list.append(np.mean(cv_results['test_accuracy']))"
   ]
  },
  {
   "cell_type": "markdown",
   "metadata": {},
   "source": [
    "### Visualizing the CV results"
   ]
  },
  {
   "cell_type": "code",
   "execution_count": 155,
   "metadata": {},
   "outputs": [
    {
     "data": {
      "image/png": "[encoded data removed]",
      "text/plain": [
       "<Figure size 432x288 with 1 Axes>"
      ]
     },
     "metadata": {
      "needs_background": "light"
     },
     "output_type": "display_data"
    }
   ],
   "source": [
    "plt.plot(n_components, accuracy_list, label=\"Accuracy\")\n",
    "plt.legend(loc=4)\n",
    "plt.xlabel('Number of components for PCA')\n",
    "plt.ylabel('Accuracy')\n",
    "plt.show()"
   ]
  },
  {
   "cell_type": "markdown",
   "metadata": {},
   "source": [
    "### Evaluating performance on the test set"
   ]
  },
  {
   "cell_type": "code",
   "execution_count": 149,
   "metadata": {},
   "outputs": [
    {
     "name": "stdout",
     "output_type": "stream",
     "text": [
      "train set accuracy: 0.6734375\n",
      "test set accuracy: 0.625\n"
     ]
    }
   ],
   "source": [
    "X_train,X_test,y_train,y_test = train_test_split(X,y,test_size=0.2,random_state=25)\n",
    "\n",
    "#Selecting n_components=15 as it has the highest average accuracy\n",
    "pca = PCA(n_components=15, random_state=0)\n",
    "X_train = pca.fit_transform(X_train)\n",
    "\n",
    "#Transforming X_test using the PCA trained on X_train\n",
    "X_test = pca.transform(X_test)\n",
    "\n",
    "#Fitting the same Logistic Regression model as before but now on the transformed data\n",
    "#The results are not affected by the regularization parameter C -> no CV required\n",
    "model = LogisticRegression(C=10, solver=\"lbfgs\", max_iter=5000)\n",
    "model.fit(X_train,y_train)\n",
    "\n",
    "#Making prediction on the seen training data \n",
    "y_pred=model.predict(X_train)\n",
    "print(\"train set accuracy:\", accuracy_score(y_train,y_pred))\n",
    "\n",
    "#Making prediction on the unseen test data \n",
    "y_pred=model.predict(X_test)\n",
    "print(\"test set accuracy:\", accuracy_score(y_test,y_pred))"
   ]
  },
  {
   "cell_type": "markdown",
   "metadata": {},
   "source": [
    "# 3. Pre-processing data using LDA, then applying the same classifier"
   ]
  },
  {
   "cell_type": "code",
   "execution_count": 125,
   "metadata": {},
   "outputs": [],
   "source": [
    "from sklearn.discriminant_analysis import LinearDiscriminantAnalysis"
   ]
  },
  {
   "cell_type": "code",
   "execution_count": 153,
   "metadata": {},
   "outputs": [
    {
     "name": "stderr",
     "output_type": "stream",
     "text": [
      "/Users/oscarengelbrektson/anaconda/lib/python3.6/site-packages/sklearn/discriminant_analysis.py:388: UserWarning: Variables are collinear.\n",
      "  warnings.warn(\"Variables are collinear.\")\n"
     ]
    }
   ],
   "source": [
    "#The upper bound on the number of components that can be used in LDA is given by n_classes-1\n",
    "#As we only have two classes, we must choose n_components=1 (no CV necessary)\n",
    "\n",
    "#Splitting the data into the same training and test set used previously\n",
    "X_train,X_test,y_train,y_test = train_test_split(data,labels,test_size=0.2,random_state=25)\n",
    "\n",
    "#Performing LDA using the test set\n",
    "lda = LinearDiscriminantAnalysis(n_components = 1)\n",
    "X_train = lda.fit_transform(X_train, y_train)\n",
    "\n",
    "#transforming X_test based on lda from training set\n",
    "X_test = lda.transform(X_test)"
   ]
  },
  {
   "cell_type": "code",
   "execution_count": 154,
   "metadata": {},
   "outputs": [
    {
     "name": "stdout",
     "output_type": "stream",
     "text": [
      "train set accuracy: 0.931875\n",
      "test set accuracy: 0.5775\n"
     ]
    }
   ],
   "source": [
    "#Running the logistic regressionmodel on the transformed data\n",
    "#The results are not affected by the regularization parameter C -> no CV required\n",
    "model = LogisticRegression(C=0.01, solver=\"lbfgs\", max_iter=5000)\n",
    "model.fit(X_train,y_train)\n",
    "\n",
    "#Making prediction on the seen training data \n",
    "y_pred=model.predict(X_train)\n",
    "print(\"train set accuracy:\", accuracy_score(y_train,y_pred))\n",
    "\n",
    "#Making prediction on the unseen test data \n",
    "y_pred=model.predict(X_test)\n",
    "print(\"test set accuracy:\", accuracy_score(y_test,y_pred))"
   ]
  },
  {
   "cell_type": "markdown",
   "metadata": {},
   "source": [
    "# Describing and interpreting the results from the 3 approaches and making a recommendation"
   ]
  },
  {
   "cell_type": "markdown",
   "metadata": {},
   "source": [
    "The first approach, fitting an ordinary Logistic Regression to the data yielded a training accuracy of 1 and test accuracy of 0.64–the best of all approaches examined. The logistic regression is thus able to perfectly separae the two classes in training, but this classification accuracy does not generalize without significant deterioration to unseen data. Note also that the training time of this model was considerable, particularly the CV procedure for selecting the regularixation parameter C. \n",
    "\n",
    "The second approach yielded a training accuracy of 0.67 and test accuracy of 0.62, a rather small discrepancy indicating that the performance generalizes well to unseen data (low variance). That said, the accuracy is still lower than approach 1. However, there is in value in dimensionality reduction above and beyond its effects on accuracy. It greatly decreases the runtime for our classication algorithm and, should we decide to use a different classifier more vulnerable to the curse of dimensionality, it may drastically improve results compared to the original method.\n",
    "\n",
    "LDA should, in theory, give the best classification accuracy out of the three approaches, as it is supervised and performs dimensionality reduction with the explicit aim of increasing class separability. In this case, however, it is the method that yields the worst performance of all. By comparing the high train set accuracy, 0.93 to the low test set accuracy 0.57 we see that the projections that yield the best class separability on the train set do not generalize well to out-of-sample data. This should perhaps not be surprising given the low quality of the data set.\n",
    "\n",
    "In the end then, even though the ordinary logistic regression edged out PCA in terms of test-set accuracy, I would recommend using the second approach–PCA followed by Logistic Regression–because of the drastic runtime advantages it offers (it takes me forever to run the first approach on my computer). How to reason about trade-offs between time and accuracy, however, is hugely context dependent. If in a situation where accuracy is clearly more important, e.g. an offline analysis setting, it may still be better to opt for the first approach (in such a situation, however, I would also recommend exploring other models than just logistic regression in the quest for higher accuracy)."
   ]
  }
 ],
 "metadata": {
  "kernelspec": {
   "display_name": "Python 3",
   "language": "python",
   "name": "python3"
  },
  "language_info": {
   "codemirror_mode": {
    "name": "ipython",
    "version": 3
   },
   "file_extension": ".py",
   "mimetype": "text/x-python",
   "name": "python",
   "nbconvert_exporter": "python",
   "pygments_lexer": "ipython3",
   "version": "3.6.9"
  }
 },
 "nbformat": 4,
 "nbformat_minor": 2
}
