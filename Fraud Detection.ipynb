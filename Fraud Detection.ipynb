{
 "cells": [
  {
   "cell_type": "markdown",
   "metadata": {},
   "source": [
    "# Assignment 5 - Fraud Detection\n",
    "## Oscar Engelbrektson\n",
    "## Prof. Sterne, CS156, Fall 2019\n",
    "\n",
    "Given data containing personal transactions of Prof. Sterne over a period of several years, the purpose of this assignment is to use kernel density estimation to generate one month worth of fake transaction data. The approach will be the following:\n",
    "\n",
    "Fit densities to each of the following quanitities:\n",
    "1. the number of transactions that occur in a single month.\n",
    "2. the day in the month that a transaction will occur on.\n",
    "3. transaction size.\n",
    "\n",
    "Given the distributions over each of these quantities estimated via KDE, generate one month's worth of fake data by:\n",
    "1. Draw a sample N, from the distribtion over the number of transactions that occur in a single month. N will be the number of transactions that occur in the fake month.\n",
    "2. Draw N samples from the distribution over the day in the month that a transaction will occur on. These samples will determine on which days in the fake month the fake transactions take place.\n",
    "3. For each of the N fake transaction, draw a sample from the distribution over transaction size. This will be the size of the fake transaction.\n",
    "\n",
    "\n",
    "We have now generated one month worth of fake transaction data."
   ]
  },
  {
   "cell_type": "code",
   "execution_count": 41,
   "metadata": {},
   "outputs": [],
   "source": [
    "import pandas as pd\n",
    "import numpy as np\n",
    "import matplotlib.pyplot as plt\n",
    "import calendar\n",
    "\n",
    "import scipy.stats as sts\n",
    "from sklearn.neighbors.kde import KernelDensity\n",
    "from sklearn.mixture import GaussianMixture\n",
    "from datetime import datetime as dt\n",
    "from sklearn.model_selection import GridSearchCV"
   ]
  },
  {
   "cell_type": "code",
   "execution_count": 42,
   "metadata": {},
   "outputs": [
    {
     "data": {
      "text/html": [
       "<div>\n",
       "<style scoped>\n",
       "    .dataframe tbody tr th:only-of-type {\n",
       "        vertical-align: middle;\n",
       "    }\n",
       "\n",
       "    .dataframe tbody tr th {\n",
       "        vertical-align: top;\n",
       "    }\n",
       "\n",
       "    .dataframe thead th {\n",
       "        text-align: right;\n",
       "    }\n",
       "</style>\n",
       "<table border=\"1\" class=\"dataframe\">\n",
       "  <thead>\n",
       "    <tr style=\"text-align: right;\">\n",
       "      <th></th>\n",
       "      <th>Date</th>\n",
       "      <th>Amount</th>\n",
       "    </tr>\n",
       "  </thead>\n",
       "  <tbody>\n",
       "    <tr>\n",
       "      <td>0</td>\n",
       "      <td>25May2016</td>\n",
       "      <td>54241.35</td>\n",
       "    </tr>\n",
       "    <tr>\n",
       "      <td>1</td>\n",
       "      <td>29May2017</td>\n",
       "      <td>54008.83</td>\n",
       "    </tr>\n",
       "    <tr>\n",
       "      <td>2</td>\n",
       "      <td>30Jun2017</td>\n",
       "      <td>54008.82</td>\n",
       "    </tr>\n",
       "    <tr>\n",
       "      <td>3</td>\n",
       "      <td>05Jan2017</td>\n",
       "      <td>52704.37</td>\n",
       "    </tr>\n",
       "    <tr>\n",
       "      <td>4</td>\n",
       "      <td>23Feb2017</td>\n",
       "      <td>52704.36</td>\n",
       "    </tr>\n",
       "  </tbody>\n",
       "</table>\n",
       "</div>"
      ],
      "text/plain": [
       "        Date    Amount\n",
       "0  25May2016  54241.35\n",
       "1  29May2017  54008.83\n",
       "2  30Jun2017  54008.82\n",
       "3  05Jan2017  52704.37\n",
       "4  23Feb2017  52704.36"
      ]
     },
     "execution_count": 42,
     "metadata": {},
     "output_type": "execute_result"
    }
   ],
   "source": [
    "#Load the data\n",
    "data = pd.read_csv(\"/Users/oscarengelbrektson/Documents/Minerva/CS156 - ML/anonymized.csv\")\n",
    "data.head()"
   ]
  },
  {
   "cell_type": "markdown",
   "metadata": {},
   "source": [
    "# Pre-processing\n",
    "The data already has the transaction size under \"Amount\", we need to extract the day of the month and the month from each date as disctinct features. We will fit KDEs to each of these features in 1. and 2. .\n",
    "\n",
    "The data set contains multiple years of data. Consequently, to model the number of transactions that occur in a month, we must take care not to throw all transactions that occured in the month of January into the same bucket–we would be counting 4 months, january each year, worth of data. Consequently, even though we won't use the year for any sampling, it still matters in so far as it allows us to distinguish different months, e.g. Jan 2016 =/= Jan 2017."
   ]
  },
  {
   "cell_type": "code",
   "execution_count": 44,
   "metadata": {},
   "outputs": [],
   "source": [
    "data['Day'] = np.array([x[0:2] for x in data.Date.values])\n",
    "\n",
    "#Extract the month, convert string to number of month using dict mapping\n",
    "data['Month'] = np.array([x[2:5] for x in data.Date.values])\n",
    "month_dict = {v: k for k,v in enumerate(calendar.month_abbr)}\n",
    "data[\"Month\"] = [month_dict[data[\"Month\"][i]] for i in range(len(data[\"Month\"]))]\n",
    "\n",
    "#Extract the year, the last 4 characters of the Date\n",
    "data['Year'] = np.array([x[5:10] for x in data.Date.values])\n",
    "\n",
    "#We drop \"Date\" as all the information contained therewithin is now extracted\n",
    "data = data.drop(columns=[\"Date\"], axis=1)"
   ]
  },
  {
   "cell_type": "code",
   "execution_count": 161,
   "metadata": {},
   "outputs": [
    {
     "data": {
      "text/html": [
       "<div>\n",
       "<style scoped>\n",
       "    .dataframe tbody tr th:only-of-type {\n",
       "        vertical-align: middle;\n",
       "    }\n",
       "\n",
       "    .dataframe tbody tr th {\n",
       "        vertical-align: top;\n",
       "    }\n",
       "\n",
       "    .dataframe thead th {\n",
       "        text-align: right;\n",
       "    }\n",
       "</style>\n",
       "<table border=\"1\" class=\"dataframe\">\n",
       "  <thead>\n",
       "    <tr style=\"text-align: right;\">\n",
       "      <th></th>\n",
       "      <th>Amount</th>\n",
       "      <th>Day</th>\n",
       "      <th>Month</th>\n",
       "      <th>Year</th>\n",
       "    </tr>\n",
       "  </thead>\n",
       "  <tbody>\n",
       "    <tr>\n",
       "      <td>0</td>\n",
       "      <td>54241.35</td>\n",
       "      <td>25</td>\n",
       "      <td>5</td>\n",
       "      <td>2016</td>\n",
       "    </tr>\n",
       "    <tr>\n",
       "      <td>1</td>\n",
       "      <td>54008.83</td>\n",
       "      <td>29</td>\n",
       "      <td>5</td>\n",
       "      <td>2017</td>\n",
       "    </tr>\n",
       "    <tr>\n",
       "      <td>2</td>\n",
       "      <td>54008.82</td>\n",
       "      <td>30</td>\n",
       "      <td>6</td>\n",
       "      <td>2017</td>\n",
       "    </tr>\n",
       "    <tr>\n",
       "      <td>3</td>\n",
       "      <td>52704.37</td>\n",
       "      <td>05</td>\n",
       "      <td>1</td>\n",
       "      <td>2017</td>\n",
       "    </tr>\n",
       "    <tr>\n",
       "      <td>4</td>\n",
       "      <td>52704.36</td>\n",
       "      <td>23</td>\n",
       "      <td>2</td>\n",
       "      <td>2017</td>\n",
       "    </tr>\n",
       "  </tbody>\n",
       "</table>\n",
       "</div>"
      ],
      "text/plain": [
       "     Amount Day  Month  Year\n",
       "0  54241.35  25      5  2016\n",
       "1  54008.83  29      5  2017\n",
       "2  54008.82  30      6  2017\n",
       "3  52704.37  05      1  2017\n",
       "4  52704.36  23      2  2017"
      ]
     },
     "execution_count": 161,
     "metadata": {},
     "output_type": "execute_result"
    }
   ],
   "source": [
    "data.head()"
   ]
  },
  {
   "cell_type": "markdown",
   "metadata": {},
   "source": [
    "## Defining a KDE selection function\n",
    "\n",
    "Given a choice of kernel, a kernel density estimation model takes one hyperparameter–the bandwidth of each kernel. As we use a gaussian kernel, the bandwidth denotes the standard deviation of the gaussian centered on each datapoint. Higher standard deviation means that each gaussian will contribute broader, less concentrated probability mass to the KDE; in the extreme where bandwidth approaches 0, the KDE will have a peak at every datapoint with not probability mass inbetween. Therefore, the bandwidth selected determines the smoothness of the KDE and is highly consequential to the samples generated therefrom.\n",
    "\n",
    "We use k-fold cross validation to select the bandwidth for each KDE. The mean log-likelihood of the validation set across the k folds is computed for each bandwidth, and the highest scoring bandwidth is selected.\n",
    "I set the linspace range, i.e. the bandwidth's tested in the cross-validation procedures, to be proportional to the order of magnitude of the data. If the optimal value lies on the edge of the linspace interval, I extend the interval until the selected bandwidth is no longer the most extreme bandwidth tested."
   ]
  },
  {
   "cell_type": "code",
   "execution_count": 460,
   "metadata": {},
   "outputs": [],
   "source": [
    "def fit_kde(data, bw_params, cv=5):\n",
    "    '''\n",
    "    Takes a dataset of observations of a variable and a list of band widths. \n",
    "    Using k-fold CV for the KDE, the mean log-likelihood of the validation set across the k folds\n",
    "    is computed for each bandwidth. \n",
    "    Returns a KernelDensity object trained on all the data using the maximum likelihood bandwidth.\n",
    "    '''\n",
    "    data = sorted(data)\n",
    "    \n",
    "    #Scoring is log-likelihood of the data. We select bandwidth to maximise the log-likelihood.\n",
    "    grid = GridSearchCV(KernelDensity(kernel='gaussian'),\n",
    "                    {'bandwidth': bw_params},\n",
    "                    cv=cv, iid=True) # 5-fold cross-validation\n",
    "    grid.fit(data)\n",
    "    \n",
    "    #Print the maximum likelihood bandwidth and the corresponding likelihood\n",
    "    print(\"The best bandwidth is %s\"\n",
    "      % (grid.best_params_))\n",
    "    \n",
    "    #Fit a kde using the cv bandwidth\n",
    "    kde = KernelDensity(kernel='gaussian', bandwidth=grid.best_params_['bandwidth']).fit(data)\n",
    "    \n",
    "    #return the fitted kde\n",
    "    return kde\n",
    "\n",
    "def plot_kde(data, kde, title, xlabel, bins=\"auto\"):\n",
    "    '''\n",
    "    Takes a dataset of observations of a variable and a KernelDensity object trained on it.\n",
    "    Returns a histogram of the dataset with the KernelDensity estimate over laid.\n",
    "    '''\n",
    "    plt.figure(figsize=(12,8))\n",
    "\n",
    "    #Plot the kde over the support of the training data\n",
    "    x_plot = np.linspace(min(data)-1, max(data)+1, 500)\n",
    "    log_dens = kde.score_samples(x_plot.reshape(-1,1))\n",
    "    plt.plot(x_plot, np.exp(log_dens), '-', label=\"kernel\")\n",
    "    \n",
    "    #Plot a histogram of the data\n",
    "    plt.hist(data, bins=bins, density=True, label=\"data\")\n",
    "    plt.ylabel(\"Density\")\n",
    "    plt.xlabel(xlabel)\n",
    "    plt.title(title)\n",
    "    plt.legend(loc=0)\n",
    "    plt.show()"
   ]
  },
  {
   "cell_type": "markdown",
   "metadata": {},
   "source": [
    "## 1. Fitting a KDE to the number of transactions that occur in a single month"
   ]
  },
  {
   "cell_type": "code",
   "execution_count": 59,
   "metadata": {},
   "outputs": [
    {
     "name": "stdout",
     "output_type": "stream",
     "text": [
      "The best bandwidth is {'bandwidth': 11.88888888888889}\n"
     ]
    }
   ],
   "source": [
    "monthly_transactions = data.groupby(['Month', \"Year\"]).count()[\"Day\"]\n",
    "month_kde = fit_kde(monthly_transactions[:, None], np.linspace(1, 50, 100))"
   ]
  },
  {
   "cell_type": "code",
   "execution_count": 461,
   "metadata": {},
   "outputs": [
    {
     "data": {
      "image/png": "[encoded data removed]",
      "text/plain": [
       "<Figure size 864x576 with 1 Axes>"
      ]
     },
     "metadata": {
      "needs_background": "light"
     },
     "output_type": "display_data"
    }
   ],
   "source": [
    "plot_kde(monthly_transactions, month_kde, title=\"Number of Transactions per Month\", \n",
    "         xlabel=\"#Transactions\", bins=len(np.unique(monthly_transactions)))"
   ]
  },
  {
   "cell_type": "markdown",
   "metadata": {},
   "source": [
    "## 2. Fitting a KDE to the day in the month that a transaction will occur on."
   ]
  },
  {
   "cell_type": "code",
   "execution_count": 450,
   "metadata": {
    "scrolled": true
   },
   "outputs": [
    {
     "name": "stdout",
     "output_type": "stream",
     "text": [
      "Unique days in a month: 31 \n",
      "Number of observations of day of month: 2518\n"
     ]
    }
   ],
   "source": [
    "day_of_month = data[\"Day\"].astype(int)\n",
    "#Number of observations of day of month \n",
    "print(\"Unique days in a month:\",len(day_of_month.unique()), \n",
    "      \"\\nNumber of observations of day of month:\",len(day_of_month))"
   ]
  },
  {
   "cell_type": "markdown",
   "metadata": {},
   "source": [
    "Day of month is a discrete variable with 31 possible values. At the same time, there are over 2500 observations split across these 31 values, as shown by the histogram above. Consequently, having a validations set size around 100 seems reasonable given that there are only 31 possible values, i.e. performing 20-fold cross validation we get a validation set more than 3x the size of possible values, any more than that seems excessive."
   ]
  },
  {
   "cell_type": "code",
   "execution_count": 143,
   "metadata": {},
   "outputs": [
    {
     "name": "stdout",
     "output_type": "stream",
     "text": [
      "The best bandwidth is {'bandwidth': 3.6427272727272726}\n"
     ]
    }
   ],
   "source": [
    "#Fitting a the KDE\n",
    "day_kde = fit_kde(day_of_month[:, None], np.linspace(0.01, 10, 100), cv=20)"
   ]
  },
  {
   "cell_type": "code",
   "execution_count": 462,
   "metadata": {},
   "outputs": [
    {
     "data": {
      "image/png": "[encoded data removed]",
      "text/plain": [
       "<Figure size 864x576 with 1 Axes>"
      ]
     },
     "metadata": {
      "needs_background": "light"
     },
     "output_type": "display_data"
    }
   ],
   "source": [
    "plot_kde(day_of_month, day_kde, title=\"Distribution over day in month of transactions\", \n",
    "         xlabel=\"Day of Month\", bins=31)"
   ]
  },
  {
   "cell_type": "markdown",
   "metadata": {},
   "source": [
    "## 3. Fitting a KDE to the transaction size"
   ]
  },
  {
   "cell_type": "code",
   "execution_count": 125,
   "metadata": {
    "scrolled": true
   },
   "outputs": [
    {
     "name": "stdout",
     "output_type": "stream",
     "text": [
      "The best bandwidth is {'bandwidth': 7900.0}\n"
     ]
    }
   ],
   "source": [
    "transaction_size = data[\"Amount\"].astype(int)\n",
    "\n",
    "amount_kde = fit_kde(transaction_size[:, None], np.linspace(100, 10000, 100))"
   ]
  },
  {
   "cell_type": "code",
   "execution_count": 463,
   "metadata": {},
   "outputs": [
    {
     "data": {
      "image/png": "[encoded data removed]",
      "text/plain": [
       "<Figure size 864x576 with 1 Axes>"
      ]
     },
     "metadata": {
      "needs_background": "light"
     },
     "output_type": "display_data"
    }
   ],
   "source": [
    "plot_kde(transaction_size, amount_kde, title=\"Distribution over transaction sizes\", \n",
    "         xlabel=\"Transaction size ($)\", bins=20)"
   ]
  },
  {
   "cell_type": "markdown",
   "metadata": {},
   "source": [
    "# Generating a month worth of fake data\n",
    "\n",
    "#### 1. Draw a sample from the distributon over transactions per month. \n",
    "\n",
    "N. The number of transactions is a discrete variable with support on all non-negative integers. Consequently, we must round each sample to the nearest integer – there cannot be 100.12312 transactions in a month! \n",
    "\n",
    "#### 2. Draw N samples from the distrbution over transaction per day in a month. \n",
    "Day of the month is a discrete variable with support on integers in the range 0 to 31. However, by fitting a gaussian to each datum, we have created (1) a CONTINOUS model with (2) positive probability mass outside the support of the variable. For example, by fitting a gaussian with bandwidth 4 to an observation on day 0, 50% of the probability mass it contributes to the model will be less than 0. Yet, if you tell the IRS a transaction took place on the -2nd day of the month you won't fool anyone. Consequently, to make samples drawn from this KDE plausible, we must do some fixing:\n",
    "\n",
    "    1. If a sample is smaller than 0 or greater than 31, reject it and draw another. Repeat until N samples have been accepted.\n",
    "    2. Once all samples are in the supported range, round to the nearest integer – there is no 12.12321th day.\n",
    "#### 3. Get size of each of the N transactions by drawing from the distribution over transaction sizes.\n",
    "Similarly to the two steps above, we must correct for the continouty of the KDE model. Transactions are recorded down to two decimal point precision, i.e. the nearest cent. We round our samples to reflect this."
   ]
  },
  {
   "cell_type": "code",
   "execution_count": 264,
   "metadata": {},
   "outputs": [],
   "source": [
    "def fake_month():\n",
    "    #Sample the number of transactions there will be in the month\n",
    "    N = int(np.round(month_kde.sample()))\n",
    "    \n",
    "    #Sample the day that each transaction occurs\n",
    "    transaction_day = []\n",
    "    while len(transaction_day) < N:\n",
    "        proposal = int(np.round(day_kde.sample()))\n",
    "        if proposal >= 0 and proposal <= 31:\n",
    "            transaction_day.append(proposal)\n",
    "                \n",
    "    #Sample the size of each transaction, round to 2decimal points\n",
    "    transaction_size = []\n",
    "    for _ in range(N):\n",
    "        transaction_size.append(float(np.round(amount_kde.sample(), 2)))\n",
    "    \n",
    "    #Save as Dataframe\n",
    "    fake_month = pd.DataFrame()\n",
    "    fake_month[\"Day\"] = sorted(transaction_day)\n",
    "    fake_month[\"Amount\"] = transaction_size\n",
    "    \n",
    "    return fake_month"
   ]
  },
  {
   "cell_type": "code",
   "execution_count": 265,
   "metadata": {},
   "outputs": [
    {
     "data": {
      "text/html": [
       "<div>\n",
       "<style scoped>\n",
       "    .dataframe tbody tr th:only-of-type {\n",
       "        vertical-align: middle;\n",
       "    }\n",
       "\n",
       "    .dataframe tbody tr th {\n",
       "        vertical-align: top;\n",
       "    }\n",
       "\n",
       "    .dataframe thead th {\n",
       "        text-align: right;\n",
       "    }\n",
       "</style>\n",
       "<table border=\"1\" class=\"dataframe\">\n",
       "  <thead>\n",
       "    <tr style=\"text-align: right;\">\n",
       "      <th></th>\n",
       "      <th>Day</th>\n",
       "      <th>Amount</th>\n",
       "    </tr>\n",
       "  </thead>\n",
       "  <tbody>\n",
       "    <tr>\n",
       "      <td>0</td>\n",
       "      <td>0</td>\n",
       "      <td>4070.59</td>\n",
       "    </tr>\n",
       "    <tr>\n",
       "      <td>1</td>\n",
       "      <td>1</td>\n",
       "      <td>-3236.56</td>\n",
       "    </tr>\n",
       "    <tr>\n",
       "      <td>2</td>\n",
       "      <td>1</td>\n",
       "      <td>12810.59</td>\n",
       "    </tr>\n",
       "    <tr>\n",
       "      <td>3</td>\n",
       "      <td>1</td>\n",
       "      <td>-16512.94</td>\n",
       "    </tr>\n",
       "    <tr>\n",
       "      <td>4</td>\n",
       "      <td>1</td>\n",
       "      <td>-11939.33</td>\n",
       "    </tr>\n",
       "    <tr>\n",
       "      <td>5</td>\n",
       "      <td>1</td>\n",
       "      <td>5431.98</td>\n",
       "    </tr>\n",
       "    <tr>\n",
       "      <td>6</td>\n",
       "      <td>2</td>\n",
       "      <td>-4964.77</td>\n",
       "    </tr>\n",
       "    <tr>\n",
       "      <td>7</td>\n",
       "      <td>2</td>\n",
       "      <td>12831.82</td>\n",
       "    </tr>\n",
       "    <tr>\n",
       "      <td>8</td>\n",
       "      <td>2</td>\n",
       "      <td>-4891.86</td>\n",
       "    </tr>\n",
       "    <tr>\n",
       "      <td>9</td>\n",
       "      <td>3</td>\n",
       "      <td>-13198.93</td>\n",
       "    </tr>\n",
       "    <tr>\n",
       "      <td>10</td>\n",
       "      <td>3</td>\n",
       "      <td>-5300.81</td>\n",
       "    </tr>\n",
       "    <tr>\n",
       "      <td>11</td>\n",
       "      <td>4</td>\n",
       "      <td>-9457.65</td>\n",
       "    </tr>\n",
       "    <tr>\n",
       "      <td>12</td>\n",
       "      <td>5</td>\n",
       "      <td>-12737.41</td>\n",
       "    </tr>\n",
       "    <tr>\n",
       "      <td>13</td>\n",
       "      <td>6</td>\n",
       "      <td>12588.35</td>\n",
       "    </tr>\n",
       "    <tr>\n",
       "      <td>14</td>\n",
       "      <td>6</td>\n",
       "      <td>542.48</td>\n",
       "    </tr>\n",
       "    <tr>\n",
       "      <td>15</td>\n",
       "      <td>9</td>\n",
       "      <td>7535.46</td>\n",
       "    </tr>\n",
       "    <tr>\n",
       "      <td>16</td>\n",
       "      <td>10</td>\n",
       "      <td>-7959.65</td>\n",
       "    </tr>\n",
       "    <tr>\n",
       "      <td>17</td>\n",
       "      <td>12</td>\n",
       "      <td>-16122.53</td>\n",
       "    </tr>\n",
       "    <tr>\n",
       "      <td>18</td>\n",
       "      <td>12</td>\n",
       "      <td>-4862.06</td>\n",
       "    </tr>\n",
       "    <tr>\n",
       "      <td>19</td>\n",
       "      <td>12</td>\n",
       "      <td>-827.48</td>\n",
       "    </tr>\n",
       "    <tr>\n",
       "      <td>20</td>\n",
       "      <td>13</td>\n",
       "      <td>-845.31</td>\n",
       "    </tr>\n",
       "    <tr>\n",
       "      <td>21</td>\n",
       "      <td>14</td>\n",
       "      <td>-8636.32</td>\n",
       "    </tr>\n",
       "    <tr>\n",
       "      <td>22</td>\n",
       "      <td>15</td>\n",
       "      <td>1245.65</td>\n",
       "    </tr>\n",
       "    <tr>\n",
       "      <td>23</td>\n",
       "      <td>16</td>\n",
       "      <td>-10543.00</td>\n",
       "    </tr>\n",
       "    <tr>\n",
       "      <td>24</td>\n",
       "      <td>17</td>\n",
       "      <td>355.52</td>\n",
       "    </tr>\n",
       "    <tr>\n",
       "      <td>25</td>\n",
       "      <td>18</td>\n",
       "      <td>-1060.42</td>\n",
       "    </tr>\n",
       "    <tr>\n",
       "      <td>26</td>\n",
       "      <td>18</td>\n",
       "      <td>3074.37</td>\n",
       "    </tr>\n",
       "    <tr>\n",
       "      <td>27</td>\n",
       "      <td>19</td>\n",
       "      <td>-11958.91</td>\n",
       "    </tr>\n",
       "    <tr>\n",
       "      <td>28</td>\n",
       "      <td>19</td>\n",
       "      <td>-6169.15</td>\n",
       "    </tr>\n",
       "    <tr>\n",
       "      <td>29</td>\n",
       "      <td>19</td>\n",
       "      <td>4879.01</td>\n",
       "    </tr>\n",
       "    <tr>\n",
       "      <td>30</td>\n",
       "      <td>20</td>\n",
       "      <td>2404.42</td>\n",
       "    </tr>\n",
       "    <tr>\n",
       "      <td>31</td>\n",
       "      <td>20</td>\n",
       "      <td>15492.26</td>\n",
       "    </tr>\n",
       "    <tr>\n",
       "      <td>32</td>\n",
       "      <td>20</td>\n",
       "      <td>4208.80</td>\n",
       "    </tr>\n",
       "    <tr>\n",
       "      <td>33</td>\n",
       "      <td>21</td>\n",
       "      <td>-4405.14</td>\n",
       "    </tr>\n",
       "    <tr>\n",
       "      <td>34</td>\n",
       "      <td>21</td>\n",
       "      <td>18406.80</td>\n",
       "    </tr>\n",
       "    <tr>\n",
       "      <td>35</td>\n",
       "      <td>21</td>\n",
       "      <td>8783.89</td>\n",
       "    </tr>\n",
       "    <tr>\n",
       "      <td>36</td>\n",
       "      <td>22</td>\n",
       "      <td>-1231.32</td>\n",
       "    </tr>\n",
       "    <tr>\n",
       "      <td>37</td>\n",
       "      <td>22</td>\n",
       "      <td>-13640.64</td>\n",
       "    </tr>\n",
       "    <tr>\n",
       "      <td>38</td>\n",
       "      <td>22</td>\n",
       "      <td>-3859.48</td>\n",
       "    </tr>\n",
       "    <tr>\n",
       "      <td>39</td>\n",
       "      <td>23</td>\n",
       "      <td>-2470.03</td>\n",
       "    </tr>\n",
       "    <tr>\n",
       "      <td>40</td>\n",
       "      <td>23</td>\n",
       "      <td>1198.27</td>\n",
       "    </tr>\n",
       "    <tr>\n",
       "      <td>41</td>\n",
       "      <td>23</td>\n",
       "      <td>16267.72</td>\n",
       "    </tr>\n",
       "    <tr>\n",
       "      <td>42</td>\n",
       "      <td>24</td>\n",
       "      <td>-967.25</td>\n",
       "    </tr>\n",
       "    <tr>\n",
       "      <td>43</td>\n",
       "      <td>24</td>\n",
       "      <td>10954.43</td>\n",
       "    </tr>\n",
       "    <tr>\n",
       "      <td>44</td>\n",
       "      <td>25</td>\n",
       "      <td>-7066.68</td>\n",
       "    </tr>\n",
       "    <tr>\n",
       "      <td>45</td>\n",
       "      <td>25</td>\n",
       "      <td>-378.93</td>\n",
       "    </tr>\n",
       "    <tr>\n",
       "      <td>46</td>\n",
       "      <td>25</td>\n",
       "      <td>1066.62</td>\n",
       "    </tr>\n",
       "    <tr>\n",
       "      <td>47</td>\n",
       "      <td>26</td>\n",
       "      <td>1018.11</td>\n",
       "    </tr>\n",
       "    <tr>\n",
       "      <td>48</td>\n",
       "      <td>26</td>\n",
       "      <td>-1943.19</td>\n",
       "    </tr>\n",
       "    <tr>\n",
       "      <td>49</td>\n",
       "      <td>27</td>\n",
       "      <td>790.74</td>\n",
       "    </tr>\n",
       "    <tr>\n",
       "      <td>50</td>\n",
       "      <td>27</td>\n",
       "      <td>3359.65</td>\n",
       "    </tr>\n",
       "    <tr>\n",
       "      <td>51</td>\n",
       "      <td>28</td>\n",
       "      <td>-4628.17</td>\n",
       "    </tr>\n",
       "    <tr>\n",
       "      <td>52</td>\n",
       "      <td>28</td>\n",
       "      <td>-6264.06</td>\n",
       "    </tr>\n",
       "    <tr>\n",
       "      <td>53</td>\n",
       "      <td>29</td>\n",
       "      <td>-10307.51</td>\n",
       "    </tr>\n",
       "    <tr>\n",
       "      <td>54</td>\n",
       "      <td>29</td>\n",
       "      <td>1246.41</td>\n",
       "    </tr>\n",
       "  </tbody>\n",
       "</table>\n",
       "</div>"
      ],
      "text/plain": [
       "    Day    Amount\n",
       "0     0   4070.59\n",
       "1     1  -3236.56\n",
       "2     1  12810.59\n",
       "3     1 -16512.94\n",
       "4     1 -11939.33\n",
       "5     1   5431.98\n",
       "6     2  -4964.77\n",
       "7     2  12831.82\n",
       "8     2  -4891.86\n",
       "9     3 -13198.93\n",
       "10    3  -5300.81\n",
       "11    4  -9457.65\n",
       "12    5 -12737.41\n",
       "13    6  12588.35\n",
       "14    6    542.48\n",
       "15    9   7535.46\n",
       "16   10  -7959.65\n",
       "17   12 -16122.53\n",
       "18   12  -4862.06\n",
       "19   12   -827.48\n",
       "20   13   -845.31\n",
       "21   14  -8636.32\n",
       "22   15   1245.65\n",
       "23   16 -10543.00\n",
       "24   17    355.52\n",
       "25   18  -1060.42\n",
       "26   18   3074.37\n",
       "27   19 -11958.91\n",
       "28   19  -6169.15\n",
       "29   19   4879.01\n",
       "30   20   2404.42\n",
       "31   20  15492.26\n",
       "32   20   4208.80\n",
       "33   21  -4405.14\n",
       "34   21  18406.80\n",
       "35   21   8783.89\n",
       "36   22  -1231.32\n",
       "37   22 -13640.64\n",
       "38   22  -3859.48\n",
       "39   23  -2470.03\n",
       "40   23   1198.27\n",
       "41   23  16267.72\n",
       "42   24   -967.25\n",
       "43   24  10954.43\n",
       "44   25  -7066.68\n",
       "45   25   -378.93\n",
       "46   25   1066.62\n",
       "47   26   1018.11\n",
       "48   26  -1943.19\n",
       "49   27    790.74\n",
       "50   27   3359.65\n",
       "51   28  -4628.17\n",
       "52   28  -6264.06\n",
       "53   29 -10307.51\n",
       "54   29   1246.41"
      ]
     },
     "execution_count": 265,
     "metadata": {},
     "output_type": "execute_result"
    }
   ],
   "source": [
    "simulated_month = fake_month()\n",
    "simulated_month"
   ]
  },
  {
   "cell_type": "markdown",
   "metadata": {},
   "source": [
    "## Why this probably isn't a great approach to bank fraud\n",
    "\n",
    "1. We are assuming the number of transactions in a month, the day of the month a transaction takes place and the size of the transaction are all independent. This is unlikely to be true. Humans are creatures of habit. For example, are likely recurrent patterns in the data. Like getting salaried the same amount the same day of the month each month, or paying recurring bills, like electricity or credit card, the same day of the month every month. We fail to capture any such conditionality properties with our KDEs.\n",
    "\n",
    "2. The model does not distinguish between ingoing and outgoing transactions. In reality, these distribution may be noticably different. For example, in reality there may never be ingoing transactions on a Sunday. But in our model there is positive probability for that event.\n",
    "\n",
    "1. The model assumes that transactions are drawn from a continous distribution over the support of the entire amount history. This isn't really realistic in the sense that there are large regions of the support, the range spanned by the minimum transaction and the largest transaction, that have never been explored. For example, in the real world, no transactions ever take place on a Sunday. In the model, we assume a continous distribution over the days of the month, yielding postive probalities of sampling sundays. We saw this in action, when we had a positive probability of sampling negative days of the month. In that case, we corrected for it. But we have not made such corrections elsewhere, and there likely are similar instances where implausible values are being generated because of this assumption.\n",
    "\n",
    "Any of these flaws could be picked up by a forensic accountant, and all these together would make it exceedingly unlikely that the data was not fabricated."
   ]
  },
  {
   "cell_type": "markdown",
   "metadata": {},
   "source": [
    "# (Optional) How well does the data follow Benford’s law?\n",
    "A set of numbers is said to satisfy Benford's law if the leading digit d (d ∈ {1, ..., 9}) occurs with probability P(d) = Log_10(1 + 1/d) (Wikipedia, n.d.).\n",
    "\n",
    "Let's examine how well that hold's for our simulated observations."
   ]
  },
  {
   "cell_type": "code",
   "execution_count": 361,
   "metadata": {},
   "outputs": [],
   "source": [
    "def benfords_law(d):\n",
    "    return np.log10(1+1/d)"
   ]
  },
  {
   "cell_type": "code",
   "execution_count": 349,
   "metadata": {},
   "outputs": [],
   "source": [
    "#Predicted probability of each of the first 9 digits\n",
    "benfords_prediction = [benfords_law(x) for x in range(1,10)]\n",
    "\n",
    "#Normalize benfords over the first 9 digits\n",
    "normalized_benfords = [x/np.sum(benfords_prediction) for x in benfords_prediction]\n",
    "\n",
    "#Compute the cdf of the normalized benfords distribution\n",
    "cummulative_benfords = [np.sum(normalized_benfords[:i]) for i in range(1, len(normalized_benfords)+1)]\n",
    "\n",
    "def sample_benford():\n",
    "    '''\n",
    "    Sample from the normalized benford distribution\n",
    "    by drawing sample from the normal uniform distribution\n",
    "    and projecting it onto the corresponding index in the cdf of benfords\n",
    "    '''\n",
    "    \n",
    "    rand = np.random.rand()\n",
    "    \n",
    "    sample = 1\n",
    "    while rand > cummulative_benfords[sample-1]:\n",
    "        sample += 1\n",
    "        \n",
    "    return sample"
   ]
  },
  {
   "cell_type": "code",
   "execution_count": 446,
   "metadata": {},
   "outputs": [
    {
     "data": {
      "image/png": "[encoded data removed]",
      "text/plain": [
       "<Figure size 864x576 with 1 Axes>"
      ]
     },
     "metadata": {
      "needs_background": "light"
     },
     "output_type": "display_data"
    }
   ],
   "source": [
    "#Checking the simulation works and visualizing Benfords Law\n",
    "plt.figure(figsize=(12,8))\n",
    "\n",
    "#True benfords\n",
    "x = np.linspace(1, 9, 200)\n",
    "true_benfords = plt.plot(x, benfords_law(x), label=\"True Benfords\")\n",
    "\n",
    "#Simulated Benfords\n",
    "simulated_benfords = [sample_bedford() for _ in range(20000)]\n",
    "plt.hist(simulated_benfords, density=True, bins=9, label=\"Simulated Benfords\")\n",
    "\n",
    "plt.title(\"Probability distribution over first digits by Benford's law\")\n",
    "plt.xlabel(\"First digit\")\n",
    "plt.ylabel(\"Probability\")\n",
    "plt.legend(loc=0)\n",
    "plt.show()"
   ]
  },
  {
   "cell_type": "code",
   "execution_count": 415,
   "metadata": {},
   "outputs": [],
   "source": [
    "from sklearn.metrics import mean_squared_error\n",
    "from math import sqrt\n",
    "\n",
    "def test_statistic(data):\n",
    "    '''\n",
    "    Takes a 1x9 array of propostions of first digits for numbers 1 through 9, \n",
    "    data[i] = proportion of time digit i+1 was first.\n",
    "    Returns root mean square deviation from bedfords law prediction\n",
    "    '''\n",
    "    return np.sqrt(np.mean((normalized_benfords-data) ** 2))"
   ]
  },
  {
   "cell_type": "markdown",
   "metadata": {},
   "source": [
    "## Finding the first digit of our simulated data"
   ]
  },
  {
   "cell_type": "code",
   "execution_count": 418,
   "metadata": {},
   "outputs": [],
   "source": [
    "def first_digit(x):\n",
    "    '''\n",
    "    Finds the first digit of x by iteratively performing\n",
    "    integer division by 10 until only the first digit remains\n",
    "    '''\n",
    "    x = abs(x)\n",
    "    while x >= 10:\n",
    "        x = x // 10\n",
    "\n",
    "    return x\n",
    "\n",
    "def digit_rate(arr):\n",
    "    '''\n",
    "    Takes array of first digits, returns \n",
    "    1x9 array with proportion of times each number appears\n",
    "    data[i] = proportion of time digit i+1 was first.\n",
    "    '''\n",
    "    \n",
    "    #Count occurence of each first digit\n",
    "    digit_counts = np.zeros(9)\n",
    "    for x in arr:\n",
    "        digit_counts[int(x)-1] += 1\n",
    "    \n",
    "    #Normalize by total count to get proportion\n",
    "    normalization = np.sum(digit_counts)\n",
    "    \n",
    "    digit_rates = np.array([digit_counts[i]/normalization for i in range(len(digit_counts))])\n",
    "    return digit_rates"
   ]
  },
  {
   "cell_type": "code",
   "execution_count": 407,
   "metadata": {},
   "outputs": [],
   "source": [
    "#Get first digit of every observation for day and amount\n",
    "fd_amount = [first_digit(simulated_month[\"Amount\"].loc[i]) for i in range(len(simulated_month))]\n",
    "fd_day = [first_digit(simulated_month[\"Day\"].loc[i]) for i in range(len(simulated_month))]\n",
    "\n",
    "#Make Dataframe with proportion of first digits for day and amount\n",
    "first_digits = pd.DataFrame()\n",
    "first_digits[\"Amount\"] = digit_rate(fd_amount)\n",
    "first_digits[\"Day\"] = digit_rate(fd_day)"
   ]
  },
  {
   "cell_type": "code",
   "execution_count": 439,
   "metadata": {},
   "outputs": [],
   "source": [
    "sim_amount_statistic = test_statistic(first_digits[\"Amount\"]) \n",
    "sim_day_statistic = test_statistic(first_digits[\"Day\"]) "
   ]
  },
  {
   "cell_type": "markdown",
   "metadata": {},
   "source": [
    "## Performing hypothesis testing by comparing the test statistic of the simulated data against data sampled from Benford's Distribtion\n",
    "\n",
    "To estimate the probability that the simulated data follows Benford's law, we draw samples of the same size as the simulated data from Benford's Distribution and compute the test statistic. We repeat this process 10 000 times, thereby generating a distribution over the values of the test statistic under the null hypothesis that the data is sampled from Benford's Law distribution. We can then use this distribution for comparison to compute p-values for the probability that the simulated data follow Benford's Law.\n",
    "\n",
    "P-values around 0.5 provide support for the null, values closer to 1 or 0 means it is unlikely that the null is true."
   ]
  },
  {
   "cell_type": "code",
   "execution_count": 421,
   "metadata": {},
   "outputs": [],
   "source": [
    "test_list= []\n",
    "N = len(simulated_month)\n",
    "for _ in range(10000):\n",
    "    sim = digit_rate([sample_bedford() for _ in range(N)])\n",
    "    \n",
    "    test_list.append(test_statistic(sim))"
   ]
  },
  {
   "cell_type": "code",
   "execution_count": 440,
   "metadata": {},
   "outputs": [
    {
     "name": "stdout",
     "output_type": "stream",
     "text": [
      "The p-value for the test statistic of the simulated Amount data is 0.012\n",
      "The p-value for the test statistic of the simulated Day data is 0.0000000000\n"
     ]
    }
   ],
   "source": [
    "#Computing the p-value by calculating the proportion of times the \n",
    "#Test statistic for the simulated data is more lower than that of the data sampled from Benford's Distribution\n",
    "print(\"The p-value for the test statistic of the simulated Amount data is %0.3f\"\n",
    "     % np.mean(sim_amount_statistic < test_list))\n",
    "\n",
    "print(\"The p-value for the test statistic of the simulated Day data is %0.10f\"\n",
    "     % np.mean(sim_day_statistic < test_list))"
   ]
  },
  {
   "cell_type": "markdown",
   "metadata": {},
   "source": [
    "The p-values for both statistics are very small, close to 0. This means it is exceedingly unlikely the data follow Benford's Law. That is, we find sufficient evidence to reject the null hypothesis. We can show this visually by comparing the values of the test statistics of the simulated data to the test statistics of the data sampled from Benford's Distribution. We you can see below, both test statistics are in the far right tails of the distribution."
   ]
  },
  {
   "cell_type": "code",
   "execution_count": 442,
   "metadata": {},
   "outputs": [
    {
     "data": {
      "image/png": "[encoded data removed]",
      "text/plain": [
       "<Figure size 864x576 with 1 Axes>"
      ]
     },
     "metadata": {
      "needs_background": "light"
     },
     "output_type": "display_data"
    }
   ],
   "source": [
    "plt.figure(figsize=(12,8))\n",
    "plt.hist(test_list, bins=20, density=True, label=\"Test statistic: Benford's Data\")\n",
    "plt.axvline(x=sim_amount_statistic, color=\"r\", label=\"Test statistic: Amount\")\n",
    "plt.axvline(x=sim_day_statistic, color=\"black\", label=\"Test statistic: Day\")\n",
    "plt.xlabel(\"Test statistic\")\n",
    "plt.ylabel(\"Density\")\n",
    "plt.legend(loc=0)\n",
    "plt.show()"
   ]
  },
  {
   "cell_type": "markdown",
   "metadata": {},
   "source": [
    "Resources:\n",
    "    \n",
    "Wikipedia. (n.d.). Benford's Law. \n",
    "    \n",
    "    retrieved\n",
    "    https://en.wikipedia.org/wiki/Benford%27s_law"
   ]
  }
 ],
 "metadata": {
  "kernelspec": {
   "display_name": "Python 3",
   "language": "python",
   "name": "python3"
  },
  "language_info": {
   "codemirror_mode": {
    "name": "ipython",
    "version": 3
   },
   "file_extension": ".py",
   "mimetype": "text/x-python",
   "name": "python",
   "nbconvert_exporter": "python",
   "pygments_lexer": "ipython3",
   "version": "3.6.9"
  }
 },
 "nbformat": 4,
 "nbformat_minor": 2
}
