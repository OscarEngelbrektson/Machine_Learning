{
 "cells": [
  {
   "cell_type": "markdown",
   "metadata": {},
   "source": [
    "# Assignment 2 - Lending Club\n",
    "## Oscar Engelbrektson\n",
    "## CS156, Prof. Albrecht, Fall 2019"
   ]
  },
  {
   "cell_type": "code",
   "execution_count": 558,
   "metadata": {},
   "outputs": [],
   "source": [
    "import pandas as pd\n",
    "import pandas_profiling as pp\n",
    "import numpy as np"
   ]
  },
  {
   "cell_type": "code",
   "execution_count": 559,
   "metadata": {},
   "outputs": [],
   "source": [
    "accept_df = pd.read_csv(\"/Users/oscarengelbrektson/Documents/Minerva/CS156 - ML/lending-club/accepted_2007_to_2018Q4.csv\", low_memory=False)"
   ]
  },
  {
   "cell_type": "code",
   "execution_count": 560,
   "metadata": {},
   "outputs": [],
   "source": [
    "reject_df = pd.read_csv(\"/Users/oscarengelbrektson/Documents/Minerva/CS156 - ML/lending-club/rejected_2007_to_2018Q4.csv\", low_memory=False)"
   ]
  },
  {
   "cell_type": "code",
   "execution_count": 561,
   "metadata": {},
   "outputs": [
    {
     "name": "stdout",
     "output_type": "stream",
     "text": [
      "(27648741, 9)\n"
     ]
    },
    {
     "data": {
      "text/html": [
       "<div>\n",
       "<style scoped>\n",
       "    .dataframe tbody tr th:only-of-type {\n",
       "        vertical-align: middle;\n",
       "    }\n",
       "\n",
       "    .dataframe tbody tr th {\n",
       "        vertical-align: top;\n",
       "    }\n",
       "\n",
       "    .dataframe thead th {\n",
       "        text-align: right;\n",
       "    }\n",
       "</style>\n",
       "<table border=\"1\" class=\"dataframe\">\n",
       "  <thead>\n",
       "    <tr style=\"text-align: right;\">\n",
       "      <th></th>\n",
       "      <th>Amount Requested</th>\n",
       "      <th>Application Date</th>\n",
       "      <th>Loan Title</th>\n",
       "      <th>Risk_Score</th>\n",
       "      <th>Debt-To-Income Ratio</th>\n",
       "      <th>Zip Code</th>\n",
       "      <th>State</th>\n",
       "      <th>Employment Length</th>\n",
       "      <th>Policy Code</th>\n",
       "    </tr>\n",
       "  </thead>\n",
       "  <tbody>\n",
       "    <tr>\n",
       "      <td>0</td>\n",
       "      <td>1000.0</td>\n",
       "      <td>2007-05-26</td>\n",
       "      <td>Wedding Covered but No Honeymoon</td>\n",
       "      <td>693.0</td>\n",
       "      <td>10%</td>\n",
       "      <td>481xx</td>\n",
       "      <td>NM</td>\n",
       "      <td>4 years</td>\n",
       "      <td>0.0</td>\n",
       "    </tr>\n",
       "    <tr>\n",
       "      <td>1</td>\n",
       "      <td>1000.0</td>\n",
       "      <td>2007-05-26</td>\n",
       "      <td>Consolidating Debt</td>\n",
       "      <td>703.0</td>\n",
       "      <td>10%</td>\n",
       "      <td>010xx</td>\n",
       "      <td>MA</td>\n",
       "      <td>&lt; 1 year</td>\n",
       "      <td>0.0</td>\n",
       "    </tr>\n",
       "    <tr>\n",
       "      <td>2</td>\n",
       "      <td>11000.0</td>\n",
       "      <td>2007-05-27</td>\n",
       "      <td>Want to consolidate my debt</td>\n",
       "      <td>715.0</td>\n",
       "      <td>10%</td>\n",
       "      <td>212xx</td>\n",
       "      <td>MD</td>\n",
       "      <td>1 year</td>\n",
       "      <td>0.0</td>\n",
       "    </tr>\n",
       "    <tr>\n",
       "      <td>3</td>\n",
       "      <td>6000.0</td>\n",
       "      <td>2007-05-27</td>\n",
       "      <td>waksman</td>\n",
       "      <td>698.0</td>\n",
       "      <td>38.64%</td>\n",
       "      <td>017xx</td>\n",
       "      <td>MA</td>\n",
       "      <td>&lt; 1 year</td>\n",
       "      <td>0.0</td>\n",
       "    </tr>\n",
       "    <tr>\n",
       "      <td>4</td>\n",
       "      <td>1500.0</td>\n",
       "      <td>2007-05-27</td>\n",
       "      <td>mdrigo</td>\n",
       "      <td>509.0</td>\n",
       "      <td>9.43%</td>\n",
       "      <td>209xx</td>\n",
       "      <td>MD</td>\n",
       "      <td>&lt; 1 year</td>\n",
       "      <td>0.0</td>\n",
       "    </tr>\n",
       "  </tbody>\n",
       "</table>\n",
       "</div>"
      ],
      "text/plain": [
       "   Amount Requested Application Date                        Loan Title  \\\n",
       "0            1000.0       2007-05-26  Wedding Covered but No Honeymoon   \n",
       "1            1000.0       2007-05-26                Consolidating Debt   \n",
       "2           11000.0       2007-05-27       Want to consolidate my debt   \n",
       "3            6000.0       2007-05-27                           waksman   \n",
       "4            1500.0       2007-05-27                            mdrigo   \n",
       "\n",
       "   Risk_Score Debt-To-Income Ratio Zip Code State Employment Length  \\\n",
       "0       693.0                  10%    481xx    NM           4 years   \n",
       "1       703.0                  10%    010xx    MA          < 1 year   \n",
       "2       715.0                  10%    212xx    MD            1 year   \n",
       "3       698.0               38.64%    017xx    MA          < 1 year   \n",
       "4       509.0                9.43%    209xx    MD          < 1 year   \n",
       "\n",
       "   Policy Code  \n",
       "0          0.0  \n",
       "1          0.0  \n",
       "2          0.0  \n",
       "3          0.0  \n",
       "4          0.0  "
      ]
     },
     "execution_count": 561,
     "metadata": {},
     "output_type": "execute_result"
    }
   ],
   "source": [
    "print(reject_df.shape)\n",
    "reject_df.head()"
   ]
  },
  {
   "cell_type": "code",
   "execution_count": 562,
   "metadata": {},
   "outputs": [
    {
     "name": "stdout",
     "output_type": "stream",
     "text": [
      "(2260701, 151)\n"
     ]
    },
    {
     "data": {
      "text/html": [
       "<div>\n",
       "<style scoped>\n",
       "    .dataframe tbody tr th:only-of-type {\n",
       "        vertical-align: middle;\n",
       "    }\n",
       "\n",
       "    .dataframe tbody tr th {\n",
       "        vertical-align: top;\n",
       "    }\n",
       "\n",
       "    .dataframe thead th {\n",
       "        text-align: right;\n",
       "    }\n",
       "</style>\n",
       "<table border=\"1\" class=\"dataframe\">\n",
       "  <thead>\n",
       "    <tr style=\"text-align: right;\">\n",
       "      <th></th>\n",
       "      <th>id</th>\n",
       "      <th>member_id</th>\n",
       "      <th>loan_amnt</th>\n",
       "      <th>funded_amnt</th>\n",
       "      <th>funded_amnt_inv</th>\n",
       "      <th>term</th>\n",
       "      <th>int_rate</th>\n",
       "      <th>installment</th>\n",
       "      <th>grade</th>\n",
       "      <th>sub_grade</th>\n",
       "      <th>...</th>\n",
       "      <th>hardship_payoff_balance_amount</th>\n",
       "      <th>hardship_last_payment_amount</th>\n",
       "      <th>disbursement_method</th>\n",
       "      <th>debt_settlement_flag</th>\n",
       "      <th>debt_settlement_flag_date</th>\n",
       "      <th>settlement_status</th>\n",
       "      <th>settlement_date</th>\n",
       "      <th>settlement_amount</th>\n",
       "      <th>settlement_percentage</th>\n",
       "      <th>settlement_term</th>\n",
       "    </tr>\n",
       "  </thead>\n",
       "  <tbody>\n",
       "    <tr>\n",
       "      <td>0</td>\n",
       "      <td>68407277</td>\n",
       "      <td>NaN</td>\n",
       "      <td>3600.0</td>\n",
       "      <td>3600.0</td>\n",
       "      <td>3600.0</td>\n",
       "      <td>36 months</td>\n",
       "      <td>13.99</td>\n",
       "      <td>123.03</td>\n",
       "      <td>C</td>\n",
       "      <td>C4</td>\n",
       "      <td>...</td>\n",
       "      <td>NaN</td>\n",
       "      <td>NaN</td>\n",
       "      <td>Cash</td>\n",
       "      <td>N</td>\n",
       "      <td>NaN</td>\n",
       "      <td>NaN</td>\n",
       "      <td>NaN</td>\n",
       "      <td>NaN</td>\n",
       "      <td>NaN</td>\n",
       "      <td>NaN</td>\n",
       "    </tr>\n",
       "    <tr>\n",
       "      <td>1</td>\n",
       "      <td>68355089</td>\n",
       "      <td>NaN</td>\n",
       "      <td>24700.0</td>\n",
       "      <td>24700.0</td>\n",
       "      <td>24700.0</td>\n",
       "      <td>36 months</td>\n",
       "      <td>11.99</td>\n",
       "      <td>820.28</td>\n",
       "      <td>C</td>\n",
       "      <td>C1</td>\n",
       "      <td>...</td>\n",
       "      <td>NaN</td>\n",
       "      <td>NaN</td>\n",
       "      <td>Cash</td>\n",
       "      <td>N</td>\n",
       "      <td>NaN</td>\n",
       "      <td>NaN</td>\n",
       "      <td>NaN</td>\n",
       "      <td>NaN</td>\n",
       "      <td>NaN</td>\n",
       "      <td>NaN</td>\n",
       "    </tr>\n",
       "    <tr>\n",
       "      <td>2</td>\n",
       "      <td>68341763</td>\n",
       "      <td>NaN</td>\n",
       "      <td>20000.0</td>\n",
       "      <td>20000.0</td>\n",
       "      <td>20000.0</td>\n",
       "      <td>60 months</td>\n",
       "      <td>10.78</td>\n",
       "      <td>432.66</td>\n",
       "      <td>B</td>\n",
       "      <td>B4</td>\n",
       "      <td>...</td>\n",
       "      <td>NaN</td>\n",
       "      <td>NaN</td>\n",
       "      <td>Cash</td>\n",
       "      <td>N</td>\n",
       "      <td>NaN</td>\n",
       "      <td>NaN</td>\n",
       "      <td>NaN</td>\n",
       "      <td>NaN</td>\n",
       "      <td>NaN</td>\n",
       "      <td>NaN</td>\n",
       "    </tr>\n",
       "    <tr>\n",
       "      <td>3</td>\n",
       "      <td>66310712</td>\n",
       "      <td>NaN</td>\n",
       "      <td>35000.0</td>\n",
       "      <td>35000.0</td>\n",
       "      <td>35000.0</td>\n",
       "      <td>60 months</td>\n",
       "      <td>14.85</td>\n",
       "      <td>829.90</td>\n",
       "      <td>C</td>\n",
       "      <td>C5</td>\n",
       "      <td>...</td>\n",
       "      <td>NaN</td>\n",
       "      <td>NaN</td>\n",
       "      <td>Cash</td>\n",
       "      <td>N</td>\n",
       "      <td>NaN</td>\n",
       "      <td>NaN</td>\n",
       "      <td>NaN</td>\n",
       "      <td>NaN</td>\n",
       "      <td>NaN</td>\n",
       "      <td>NaN</td>\n",
       "    </tr>\n",
       "    <tr>\n",
       "      <td>4</td>\n",
       "      <td>68476807</td>\n",
       "      <td>NaN</td>\n",
       "      <td>10400.0</td>\n",
       "      <td>10400.0</td>\n",
       "      <td>10400.0</td>\n",
       "      <td>60 months</td>\n",
       "      <td>22.45</td>\n",
       "      <td>289.91</td>\n",
       "      <td>F</td>\n",
       "      <td>F1</td>\n",
       "      <td>...</td>\n",
       "      <td>NaN</td>\n",
       "      <td>NaN</td>\n",
       "      <td>Cash</td>\n",
       "      <td>N</td>\n",
       "      <td>NaN</td>\n",
       "      <td>NaN</td>\n",
       "      <td>NaN</td>\n",
       "      <td>NaN</td>\n",
       "      <td>NaN</td>\n",
       "      <td>NaN</td>\n",
       "    </tr>\n",
       "  </tbody>\n",
       "</table>\n",
       "<p>5 rows × 151 columns</p>\n",
       "</div>"
      ],
      "text/plain": [
       "         id  member_id  loan_amnt  funded_amnt  funded_amnt_inv        term  \\\n",
       "0  68407277        NaN     3600.0       3600.0           3600.0   36 months   \n",
       "1  68355089        NaN    24700.0      24700.0          24700.0   36 months   \n",
       "2  68341763        NaN    20000.0      20000.0          20000.0   60 months   \n",
       "3  66310712        NaN    35000.0      35000.0          35000.0   60 months   \n",
       "4  68476807        NaN    10400.0      10400.0          10400.0   60 months   \n",
       "\n",
       "   int_rate  installment grade sub_grade  ... hardship_payoff_balance_amount  \\\n",
       "0     13.99       123.03     C        C4  ...                            NaN   \n",
       "1     11.99       820.28     C        C1  ...                            NaN   \n",
       "2     10.78       432.66     B        B4  ...                            NaN   \n",
       "3     14.85       829.90     C        C5  ...                            NaN   \n",
       "4     22.45       289.91     F        F1  ...                            NaN   \n",
       "\n",
       "  hardship_last_payment_amount disbursement_method  debt_settlement_flag  \\\n",
       "0                          NaN                Cash                     N   \n",
       "1                          NaN                Cash                     N   \n",
       "2                          NaN                Cash                     N   \n",
       "3                          NaN                Cash                     N   \n",
       "4                          NaN                Cash                     N   \n",
       "\n",
       "  debt_settlement_flag_date settlement_status settlement_date  \\\n",
       "0                       NaN               NaN             NaN   \n",
       "1                       NaN               NaN             NaN   \n",
       "2                       NaN               NaN             NaN   \n",
       "3                       NaN               NaN             NaN   \n",
       "4                       NaN               NaN             NaN   \n",
       "\n",
       "  settlement_amount settlement_percentage settlement_term  \n",
       "0               NaN                   NaN             NaN  \n",
       "1               NaN                   NaN             NaN  \n",
       "2               NaN                   NaN             NaN  \n",
       "3               NaN                   NaN             NaN  \n",
       "4               NaN                   NaN             NaN  \n",
       "\n",
       "[5 rows x 151 columns]"
      ]
     },
     "execution_count": 562,
     "metadata": {},
     "output_type": "execute_result"
    }
   ],
   "source": [
    "print(accept_df.shape)\n",
    "accept_df.head()"
   ]
  },
  {
   "cell_type": "markdown",
   "metadata": {},
   "source": [
    "# Pre-processing\n",
    "\n",
    "The pre-processing of the lending club data set consists of four sections: \n",
    "1. Extracting a subset of the data. The dataset is too large for my laptop to work with. I will hence need to extract a subset of the data in each dataset. Working on the assumption that recent data is preferable to older data for the purposes of prediction, I will make a hard cutoff at the beginning of 2018. This means I will have one years worth of data for both rejected and accepted. However, this still leaves me with several million observations in each dataset–too many. The number of observations in each dataset is approximately equal over this time period, I will therefore randomly sample an equal number, 150 000, of observations from each data set.\n",
    "    1. Extract 2018\n",
    "    2. Remove Rows with Nan observations in relevant columns (determined in 2.)\n",
    "    3. Randomly sample 150 000 observations from each data set\n",
    "2. Column selection. For the purposes of predicting the what loan ammount will be accepted ahead of time, only the data which are known at the time of application submission are of interest. Consequently, all other columns will be dropped. Furthermore, the predictive approach I am taking here is fitting a logistic regression with whther or not a loan gets funded as the outcome variable. Thus, I can only include columns which represent information present in both the reject_df and accept_df. Otherwise, the columns will contribute any meaningful information in predicting the outcome of interest. That is, if a binary variable is only observed if the loan is successfully funded, then there will be perfect collinearity between the outcome and the variable. \n",
    "3. Merging the accepted dataset with the rejected dataset.\n",
    "4. Column pre-processing. Converting each column into a representation that is amenable to model fitting. E.g. making one-hot encodings for unordered categorical variables."
   ]
  },
  {
   "cell_type": "markdown",
   "metadata": {},
   "source": [
    "##  1.  Extracting a subset of the data"
   ]
  },
  {
   "cell_type": "markdown",
   "metadata": {},
   "source": [
    "#### Extracting 2018"
   ]
  },
  {
   "cell_type": "code",
   "execution_count": 563,
   "metadata": {},
   "outputs": [],
   "source": [
    "#Find the latest date for which values are observed in both datasets\n",
    "#This will be the upper bound of our time subset\n",
    "\n",
    "#Convert to datetime\n",
    "reject_df[\"Application Date\"] = pd.to_datetime(reject_df[\"Application Date\"])\n",
    "accept_df[\"issue_d\"] = pd.to_datetime(accept_df[\"issue_d\"])"
   ]
  },
  {
   "cell_type": "code",
   "execution_count": 564,
   "metadata": {},
   "outputs": [],
   "source": [
    "#Application date, the only date value in the reject_df\n",
    "reject_df[\"Application Date\"] = pd.to_datetime(reject_df[\"Application Date\"])\n",
    "reject_df = reject_df.loc[(reject_df['Application Date'] > np.datetime64(\"2017-12-31 23:59:59\")) & \n",
    "                         (reject_df['Application Date'] <= np.datetime64(\"2019-01-01 00:00:00\"))]\n",
    "\n",
    "#issue date is the only date value in the accept_df, \n",
    "#given low processing times for loan applications we take this to be approximately the same as the application date\n",
    "accept_df = accept_df.loc[(accept_df[\"issue_d\"] > np.datetime64(\"2017-12-31 23:59:59\")) & \n",
    "                         (accept_df[\"issue_d\"] <= np.datetime64(\"2019-01-01 00:00:00\"))]"
   ]
  },
  {
   "cell_type": "markdown",
   "metadata": {},
   "source": [
    "#### Drop rows with missing values on relevant columns"
   ]
  },
  {
   "cell_type": "code",
   "execution_count": 565,
   "metadata": {},
   "outputs": [
    {
     "data": {
      "text/plain": [
       "['Amount Requested',\n",
       " 'Application Date',\n",
       " 'Loan Title',\n",
       " 'Risk_Score',\n",
       " 'Debt-To-Income Ratio',\n",
       " 'Zip Code',\n",
       " 'State',\n",
       " 'Employment Length',\n",
       " 'Policy Code']"
      ]
     },
     "execution_count": 565,
     "metadata": {},
     "output_type": "execute_result"
    }
   ],
   "source": [
    "list(reject_df)"
   ]
  },
  {
   "cell_type": "code",
   "execution_count": 566,
   "metadata": {},
   "outputs": [],
   "source": [
    "accept_df.dropna(subset=[\"loan_amnt\", \n",
    "                        \"issue_d\", \n",
    "                        \"title\", \"dti\", \n",
    "                        \"addr_state\", \n",
    "                        \"emp_length\", \n",
    "                        \"policy_code\"], inplace=True)\n",
    "\n",
    "reject_df.dropna(subset=['Amount Requested',\n",
    "                         'Application Date',\n",
    "                         'Loan Title',\n",
    "                         'Risk_Score',\n",
    "                         'Debt-To-Income Ratio',\n",
    "                         'Zip Code',\n",
    "                         'State',\n",
    "                         'Employment Length',\n",
    "                         'Policy Code'], inplace=True)"
   ]
  },
  {
   "cell_type": "markdown",
   "metadata": {},
   "source": [
    "#### Sampling 150 000 observations"
   ]
  },
  {
   "cell_type": "code",
   "execution_count": 567,
   "metadata": {},
   "outputs": [],
   "source": [
    "sample_size = 150000\n",
    "reject_df = reject_df.sample(n=sample_size, random_state=1)\n",
    "accept_df = accept_df.sample(n=sample_size, random_state=1)"
   ]
  },
  {
   "cell_type": "markdown",
   "metadata": {},
   "source": [
    "## 2. Column Selection\n",
    "\n",
    "#### Removing columns observed after funding decisions have been made or are not present in both datasets"
   ]
  },
  {
   "cell_type": "code",
   "execution_count": 568,
   "metadata": {},
   "outputs": [],
   "source": [
    "#All columns in reject_df are observed before or at the time of funding decisions, we keep all\n",
    "#However, we drop risk score and policy code because no corresponding columns exist in accept_df\n",
    "reject_df.drop(columns = [\"Risk_Score\"], inplace=True)\n",
    "\n",
    "accept_df = accept_df[[\"loan_amnt\", \"funded_amnt\", \"funded_amnt_inv\", \n",
    "                       \"issue_d\", \"title\", \"dti\", \"zip_code\", \n",
    "                       \"addr_state\", \"emp_length\", \"policy_code\"]]"
   ]
  },
  {
   "cell_type": "markdown",
   "metadata": {},
   "source": [
    "#### Decide if it makes sense to keep loan_amnt, funded_amnt and funded_amnt_inv"
   ]
  },
  {
   "cell_type": "code",
   "execution_count": 569,
   "metadata": {},
   "outputs": [
    {
     "data": {
      "text/html": [
       "<div>\n",
       "<style scoped>\n",
       "    .dataframe tbody tr th:only-of-type {\n",
       "        vertical-align: middle;\n",
       "    }\n",
       "\n",
       "    .dataframe tbody tr th {\n",
       "        vertical-align: top;\n",
       "    }\n",
       "\n",
       "    .dataframe thead th {\n",
       "        text-align: right;\n",
       "    }\n",
       "</style>\n",
       "<table border=\"1\" class=\"dataframe\">\n",
       "  <thead>\n",
       "    <tr style=\"text-align: right;\">\n",
       "      <th></th>\n",
       "      <th>loan_amnt</th>\n",
       "      <th>funded_amnt</th>\n",
       "      <th>funded_amnt_inv</th>\n",
       "    </tr>\n",
       "  </thead>\n",
       "  <tbody>\n",
       "    <tr>\n",
       "      <td>loan_amnt</td>\n",
       "      <td>1.000000</td>\n",
       "      <td>1.000000</td>\n",
       "      <td>0.999996</td>\n",
       "    </tr>\n",
       "    <tr>\n",
       "      <td>funded_amnt</td>\n",
       "      <td>1.000000</td>\n",
       "      <td>1.000000</td>\n",
       "      <td>0.999996</td>\n",
       "    </tr>\n",
       "    <tr>\n",
       "      <td>funded_amnt_inv</td>\n",
       "      <td>0.999996</td>\n",
       "      <td>0.999996</td>\n",
       "      <td>1.000000</td>\n",
       "    </tr>\n",
       "  </tbody>\n",
       "</table>\n",
       "</div>"
      ],
      "text/plain": [
       "                 loan_amnt  funded_amnt  funded_amnt_inv\n",
       "loan_amnt         1.000000     1.000000         0.999996\n",
       "funded_amnt       1.000000     1.000000         0.999996\n",
       "funded_amnt_inv   0.999996     0.999996         1.000000"
      ]
     },
     "execution_count": 569,
     "metadata": {},
     "output_type": "execute_result"
    }
   ],
   "source": [
    "#Make correlation table of variables\n",
    "accept_df[[\"loan_amnt\", \"funded_amnt\", \"funded_amnt_inv\"]].corr(method=\"pearson\")"
   ]
  },
  {
   "cell_type": "code",
   "execution_count": 570,
   "metadata": {},
   "outputs": [],
   "source": [
    "#The variables are almost perfectly collinear, thus I will keep only one of them. \n",
    "#I select loan_amnt, which is identical to funded_amnt, because it represents the requested amount \n",
    "#(present in rejected_df).\n",
    "accept_df.drop(columns=[\"funded_amnt\", \"funded_amnt_inv\"], inplace=True)"
   ]
  },
  {
   "cell_type": "code",
   "execution_count": 571,
   "metadata": {},
   "outputs": [
    {
     "data": {
      "text/html": [
       "<div>\n",
       "<style scoped>\n",
       "    .dataframe tbody tr th:only-of-type {\n",
       "        vertical-align: middle;\n",
       "    }\n",
       "\n",
       "    .dataframe tbody tr th {\n",
       "        vertical-align: top;\n",
       "    }\n",
       "\n",
       "    .dataframe thead th {\n",
       "        text-align: right;\n",
       "    }\n",
       "</style>\n",
       "<table border=\"1\" class=\"dataframe\">\n",
       "  <thead>\n",
       "    <tr style=\"text-align: right;\">\n",
       "      <th></th>\n",
       "      <th>loan_amnt</th>\n",
       "      <th>issue_d</th>\n",
       "      <th>title</th>\n",
       "      <th>dti</th>\n",
       "      <th>zip_code</th>\n",
       "      <th>addr_state</th>\n",
       "      <th>emp_length</th>\n",
       "      <th>policy_code</th>\n",
       "    </tr>\n",
       "  </thead>\n",
       "  <tbody>\n",
       "    <tr>\n",
       "      <td>1376235</td>\n",
       "      <td>1500.0</td>\n",
       "      <td>2018-12-01</td>\n",
       "      <td>Debt consolidation</td>\n",
       "      <td>18.67</td>\n",
       "      <td>379xx</td>\n",
       "      <td>TN</td>\n",
       "      <td>1 year</td>\n",
       "      <td>1.0</td>\n",
       "    </tr>\n",
       "    <tr>\n",
       "      <td>525943</td>\n",
       "      <td>7000.0</td>\n",
       "      <td>2018-01-01</td>\n",
       "      <td>Car financing</td>\n",
       "      <td>32.58</td>\n",
       "      <td>391xx</td>\n",
       "      <td>MS</td>\n",
       "      <td>4 years</td>\n",
       "      <td>1.0</td>\n",
       "    </tr>\n",
       "    <tr>\n",
       "      <td>1442708</td>\n",
       "      <td>9000.0</td>\n",
       "      <td>2018-10-01</td>\n",
       "      <td>Debt consolidation</td>\n",
       "      <td>16.94</td>\n",
       "      <td>760xx</td>\n",
       "      <td>TX</td>\n",
       "      <td>10+ years</td>\n",
       "      <td>1.0</td>\n",
       "    </tr>\n",
       "    <tr>\n",
       "      <td>433916</td>\n",
       "      <td>24000.0</td>\n",
       "      <td>2018-03-01</td>\n",
       "      <td>Major purchase</td>\n",
       "      <td>0.00</td>\n",
       "      <td>594xx</td>\n",
       "      <td>MT</td>\n",
       "      <td>10+ years</td>\n",
       "      <td>1.0</td>\n",
       "    </tr>\n",
       "    <tr>\n",
       "      <td>435591</td>\n",
       "      <td>3000.0</td>\n",
       "      <td>2018-03-01</td>\n",
       "      <td>Credit card refinancing</td>\n",
       "      <td>12.83</td>\n",
       "      <td>480xx</td>\n",
       "      <td>MI</td>\n",
       "      <td>&lt; 1 year</td>\n",
       "      <td>1.0</td>\n",
       "    </tr>\n",
       "  </tbody>\n",
       "</table>\n",
       "</div>"
      ],
      "text/plain": [
       "         loan_amnt    issue_d                    title    dti zip_code  \\\n",
       "1376235     1500.0 2018-12-01       Debt consolidation  18.67    379xx   \n",
       "525943      7000.0 2018-01-01            Car financing  32.58    391xx   \n",
       "1442708     9000.0 2018-10-01       Debt consolidation  16.94    760xx   \n",
       "433916     24000.0 2018-03-01           Major purchase   0.00    594xx   \n",
       "435591      3000.0 2018-03-01  Credit card refinancing  12.83    480xx   \n",
       "\n",
       "        addr_state emp_length  policy_code  \n",
       "1376235         TN     1 year          1.0  \n",
       "525943          MS    4 years          1.0  \n",
       "1442708         TX  10+ years          1.0  \n",
       "433916          MT  10+ years          1.0  \n",
       "435591          MI   < 1 year          1.0  "
      ]
     },
     "execution_count": 571,
     "metadata": {},
     "output_type": "execute_result"
    }
   ],
   "source": [
    "accept_df.head()"
   ]
  },
  {
   "cell_type": "code",
   "execution_count": 661,
   "metadata": {},
   "outputs": [
    {
     "data": {
      "text/plain": [
       "count    150000.000000\n",
       "mean      16308.819000\n",
       "std       10207.713648\n",
       "min        1000.000000\n",
       "25%        8500.000000\n",
       "50%       14400.000000\n",
       "75%       22825.000000\n",
       "max       40000.000000\n",
       "Name: loan_amnt, dtype: float64"
      ]
     },
     "execution_count": 661,
     "metadata": {},
     "output_type": "execute_result"
    }
   ],
   "source": [
    "accept_df.loan_amnt.describe()"
   ]
  },
  {
   "cell_type": "code",
   "execution_count": 663,
   "metadata": {},
   "outputs": [
    {
     "data": {
      "text/plain": [
       "Index(['loan_amnt', 'date', 'loan_title', 'dti', 'zip_code', 'state',\n",
       "       'emp_length', 'policy_code', 'funded'],\n",
       "      dtype='object')"
      ]
     },
     "execution_count": 663,
     "metadata": {},
     "output_type": "execute_result"
    }
   ],
   "source": [
    "reject_df.columns"
   ]
  },
  {
   "cell_type": "code",
   "execution_count": 664,
   "metadata": {},
   "outputs": [
    {
     "data": {
      "text/plain": [
       "count    150000.000000\n",
       "mean      11366.542833\n",
       "std       10630.050884\n",
       "min        1000.000000\n",
       "25%        3000.000000\n",
       "50%        8000.000000\n",
       "75%       15500.000000\n",
       "max       90725.000000\n",
       "Name: loan_amnt, dtype: float64"
      ]
     },
     "execution_count": 664,
     "metadata": {},
     "output_type": "execute_result"
    }
   ],
   "source": [
    "reject_df.loan_amnt.describe()"
   ]
  },
  {
   "cell_type": "code",
   "execution_count": 572,
   "metadata": {},
   "outputs": [
    {
     "data": {
      "text/html": [
       "<div>\n",
       "<style scoped>\n",
       "    .dataframe tbody tr th:only-of-type {\n",
       "        vertical-align: middle;\n",
       "    }\n",
       "\n",
       "    .dataframe tbody tr th {\n",
       "        vertical-align: top;\n",
       "    }\n",
       "\n",
       "    .dataframe thead th {\n",
       "        text-align: right;\n",
       "    }\n",
       "</style>\n",
       "<table border=\"1\" class=\"dataframe\">\n",
       "  <thead>\n",
       "    <tr style=\"text-align: right;\">\n",
       "      <th></th>\n",
       "      <th>Amount Requested</th>\n",
       "      <th>Application Date</th>\n",
       "      <th>Loan Title</th>\n",
       "      <th>Debt-To-Income Ratio</th>\n",
       "      <th>Zip Code</th>\n",
       "      <th>State</th>\n",
       "      <th>Employment Length</th>\n",
       "      <th>Policy Code</th>\n",
       "    </tr>\n",
       "  </thead>\n",
       "  <tbody>\n",
       "    <tr>\n",
       "      <td>9730655</td>\n",
       "      <td>5000.0</td>\n",
       "      <td>2018-01-03</td>\n",
       "      <td>Credit card refinancing</td>\n",
       "      <td>11.74%</td>\n",
       "      <td>223xx</td>\n",
       "      <td>VA</td>\n",
       "      <td>&lt; 1 year</td>\n",
       "      <td>0.0</td>\n",
       "    </tr>\n",
       "    <tr>\n",
       "      <td>16468121</td>\n",
       "      <td>10000.0</td>\n",
       "      <td>2018-12-03</td>\n",
       "      <td>Car financing</td>\n",
       "      <td>0%</td>\n",
       "      <td>238xx</td>\n",
       "      <td>VA</td>\n",
       "      <td>&lt; 1 year</td>\n",
       "      <td>0.0</td>\n",
       "    </tr>\n",
       "    <tr>\n",
       "      <td>9706290</td>\n",
       "      <td>25000.0</td>\n",
       "      <td>2018-01-02</td>\n",
       "      <td>Debt consolidation</td>\n",
       "      <td>29.25%</td>\n",
       "      <td>364xx</td>\n",
       "      <td>AL</td>\n",
       "      <td>&lt; 1 year</td>\n",
       "      <td>0.0</td>\n",
       "    </tr>\n",
       "    <tr>\n",
       "      <td>17209960</td>\n",
       "      <td>3975.0</td>\n",
       "      <td>2018-12-29</td>\n",
       "      <td>Other</td>\n",
       "      <td>7.26%</td>\n",
       "      <td>770xx</td>\n",
       "      <td>TX</td>\n",
       "      <td>&lt; 1 year</td>\n",
       "      <td>0.0</td>\n",
       "    </tr>\n",
       "    <tr>\n",
       "      <td>9875772</td>\n",
       "      <td>13000.0</td>\n",
       "      <td>2018-01-09</td>\n",
       "      <td>Credit card refinancing</td>\n",
       "      <td>29.03%</td>\n",
       "      <td>014xx</td>\n",
       "      <td>MA</td>\n",
       "      <td>&lt; 1 year</td>\n",
       "      <td>0.0</td>\n",
       "    </tr>\n",
       "  </tbody>\n",
       "</table>\n",
       "</div>"
      ],
      "text/plain": [
       "          Amount Requested Application Date               Loan Title  \\\n",
       "9730655             5000.0       2018-01-03  Credit card refinancing   \n",
       "16468121           10000.0       2018-12-03            Car financing   \n",
       "9706290            25000.0       2018-01-02       Debt consolidation   \n",
       "17209960            3975.0       2018-12-29                    Other   \n",
       "9875772            13000.0       2018-01-09  Credit card refinancing   \n",
       "\n",
       "         Debt-To-Income Ratio Zip Code State Employment Length  Policy Code  \n",
       "9730655                11.74%    223xx    VA          < 1 year          0.0  \n",
       "16468121                   0%    238xx    VA          < 1 year          0.0  \n",
       "9706290                29.25%    364xx    AL          < 1 year          0.0  \n",
       "17209960                7.26%    770xx    TX          < 1 year          0.0  \n",
       "9875772                29.03%    014xx    MA          < 1 year          0.0  "
      ]
     },
     "execution_count": 572,
     "metadata": {},
     "output_type": "execute_result"
    }
   ],
   "source": [
    "reject_df.head()"
   ]
  },
  {
   "cell_type": "markdown",
   "metadata": {},
   "source": [
    "## 3. Merging the dataframes\n",
    "\n",
    "#### We begin by renaming the columns to match to match accross the datasets"
   ]
  },
  {
   "cell_type": "code",
   "execution_count": 573,
   "metadata": {},
   "outputs": [],
   "source": [
    "#Modifying the Reject column names\n",
    "reject_df.rename(columns={\"Amount Requested\": \"loan_amnt\", \"Application Date\":\"date\", \n",
    "                 \"Loan Title\": \"loan_title\", \"Debt-To-Income Ratio\": \"dti\",\n",
    "                \"Zip Code\":\"zip_code\", \"State\":\"state\", \n",
    "                 \"Employment Length\":\"emp_length\", \"Policy Code\":\"policy_code\"}, inplace=True)\n",
    "\n",
    "#Modifying the accept column names\n",
    "accept_df.rename(columns={\"issue_d\":\"date\", \"addr_state\":\"state\", \n",
    "                          \"title\":\"loan_title\"}, inplace=True)"
   ]
  },
  {
   "cell_type": "markdown",
   "metadata": {},
   "source": [
    "#### Add binary variable, accepted, indicating whether loan was successfully funded or not"
   ]
  },
  {
   "cell_type": "code",
   "execution_count": 574,
   "metadata": {},
   "outputs": [],
   "source": [
    "#1 for all observations in accepted_df\n",
    "accept_df[\"funded\"] = 1\n",
    "\n",
    "#0 for all observations in the reject_df\n",
    "reject_df[\"funded\"] = 0"
   ]
  },
  {
   "cell_type": "markdown",
   "metadata": {},
   "source": [
    "#### Concatenate the dataframes"
   ]
  },
  {
   "cell_type": "code",
   "execution_count": 575,
   "metadata": {},
   "outputs": [],
   "source": [
    "#Before concatenating, remove the # from dti in the rejected data\n",
    "reject_df.loc[:,['dti']] = np.array([x.replace('%','') for x in reject_df[\"dti\"]])"
   ]
  },
  {
   "cell_type": "code",
   "execution_count": 576,
   "metadata": {},
   "outputs": [],
   "source": [
    "loan_df = pd.concat([accept_df, reject_df], sort=False)"
   ]
  },
  {
   "cell_type": "code",
   "execution_count": 577,
   "metadata": {},
   "outputs": [
    {
     "data": {
      "text/html": [
       "<div>\n",
       "<style scoped>\n",
       "    .dataframe tbody tr th:only-of-type {\n",
       "        vertical-align: middle;\n",
       "    }\n",
       "\n",
       "    .dataframe tbody tr th {\n",
       "        vertical-align: top;\n",
       "    }\n",
       "\n",
       "    .dataframe thead th {\n",
       "        text-align: right;\n",
       "    }\n",
       "</style>\n",
       "<table border=\"1\" class=\"dataframe\">\n",
       "  <thead>\n",
       "    <tr style=\"text-align: right;\">\n",
       "      <th></th>\n",
       "      <th>loan_amnt</th>\n",
       "      <th>date</th>\n",
       "      <th>loan_title</th>\n",
       "      <th>dti</th>\n",
       "      <th>zip_code</th>\n",
       "      <th>state</th>\n",
       "      <th>emp_length</th>\n",
       "      <th>policy_code</th>\n",
       "      <th>funded</th>\n",
       "    </tr>\n",
       "  </thead>\n",
       "  <tbody>\n",
       "    <tr>\n",
       "      <td>1376235</td>\n",
       "      <td>1500.0</td>\n",
       "      <td>2018-12-01</td>\n",
       "      <td>Debt consolidation</td>\n",
       "      <td>18.67</td>\n",
       "      <td>379xx</td>\n",
       "      <td>TN</td>\n",
       "      <td>1 year</td>\n",
       "      <td>1.0</td>\n",
       "      <td>1</td>\n",
       "    </tr>\n",
       "    <tr>\n",
       "      <td>525943</td>\n",
       "      <td>7000.0</td>\n",
       "      <td>2018-01-01</td>\n",
       "      <td>Car financing</td>\n",
       "      <td>32.58</td>\n",
       "      <td>391xx</td>\n",
       "      <td>MS</td>\n",
       "      <td>4 years</td>\n",
       "      <td>1.0</td>\n",
       "      <td>1</td>\n",
       "    </tr>\n",
       "    <tr>\n",
       "      <td>1442708</td>\n",
       "      <td>9000.0</td>\n",
       "      <td>2018-10-01</td>\n",
       "      <td>Debt consolidation</td>\n",
       "      <td>16.94</td>\n",
       "      <td>760xx</td>\n",
       "      <td>TX</td>\n",
       "      <td>10+ years</td>\n",
       "      <td>1.0</td>\n",
       "      <td>1</td>\n",
       "    </tr>\n",
       "    <tr>\n",
       "      <td>433916</td>\n",
       "      <td>24000.0</td>\n",
       "      <td>2018-03-01</td>\n",
       "      <td>Major purchase</td>\n",
       "      <td>0</td>\n",
       "      <td>594xx</td>\n",
       "      <td>MT</td>\n",
       "      <td>10+ years</td>\n",
       "      <td>1.0</td>\n",
       "      <td>1</td>\n",
       "    </tr>\n",
       "    <tr>\n",
       "      <td>435591</td>\n",
       "      <td>3000.0</td>\n",
       "      <td>2018-03-01</td>\n",
       "      <td>Credit card refinancing</td>\n",
       "      <td>12.83</td>\n",
       "      <td>480xx</td>\n",
       "      <td>MI</td>\n",
       "      <td>&lt; 1 year</td>\n",
       "      <td>1.0</td>\n",
       "      <td>1</td>\n",
       "    </tr>\n",
       "    <tr>\n",
       "      <td>...</td>\n",
       "      <td>...</td>\n",
       "      <td>...</td>\n",
       "      <td>...</td>\n",
       "      <td>...</td>\n",
       "      <td>...</td>\n",
       "      <td>...</td>\n",
       "      <td>...</td>\n",
       "      <td>...</td>\n",
       "      <td>...</td>\n",
       "    </tr>\n",
       "    <tr>\n",
       "      <td>9809266</td>\n",
       "      <td>7000.0</td>\n",
       "      <td>2018-01-06</td>\n",
       "      <td>Credit card refinancing</td>\n",
       "      <td>47.09</td>\n",
       "      <td>890xx</td>\n",
       "      <td>NV</td>\n",
       "      <td>&lt; 1 year</td>\n",
       "      <td>0.0</td>\n",
       "      <td>0</td>\n",
       "    </tr>\n",
       "    <tr>\n",
       "      <td>10030958</td>\n",
       "      <td>10000.0</td>\n",
       "      <td>2018-01-17</td>\n",
       "      <td>Debt consolidation</td>\n",
       "      <td>58.42</td>\n",
       "      <td>790xx</td>\n",
       "      <td>TX</td>\n",
       "      <td>&lt; 1 year</td>\n",
       "      <td>0.0</td>\n",
       "      <td>0</td>\n",
       "    </tr>\n",
       "    <tr>\n",
       "      <td>9946061</td>\n",
       "      <td>35000.0</td>\n",
       "      <td>2018-01-12</td>\n",
       "      <td>Other</td>\n",
       "      <td>4.94</td>\n",
       "      <td>755xx</td>\n",
       "      <td>TX</td>\n",
       "      <td>&lt; 1 year</td>\n",
       "      <td>0.0</td>\n",
       "      <td>0</td>\n",
       "    </tr>\n",
       "    <tr>\n",
       "      <td>9866939</td>\n",
       "      <td>10000.0</td>\n",
       "      <td>2018-01-09</td>\n",
       "      <td>Credit card refinancing</td>\n",
       "      <td>41.91</td>\n",
       "      <td>540xx</td>\n",
       "      <td>WI</td>\n",
       "      <td>&lt; 1 year</td>\n",
       "      <td>0.0</td>\n",
       "      <td>0</td>\n",
       "    </tr>\n",
       "    <tr>\n",
       "      <td>9884401</td>\n",
       "      <td>1000.0</td>\n",
       "      <td>2018-01-10</td>\n",
       "      <td>Debt consolidation</td>\n",
       "      <td>0</td>\n",
       "      <td>294xx</td>\n",
       "      <td>SC</td>\n",
       "      <td>&lt; 1 year</td>\n",
       "      <td>0.0</td>\n",
       "      <td>0</td>\n",
       "    </tr>\n",
       "  </tbody>\n",
       "</table>\n",
       "<p>300000 rows × 9 columns</p>\n",
       "</div>"
      ],
      "text/plain": [
       "          loan_amnt       date               loan_title    dti zip_code state  \\\n",
       "1376235      1500.0 2018-12-01       Debt consolidation  18.67    379xx    TN   \n",
       "525943       7000.0 2018-01-01            Car financing  32.58    391xx    MS   \n",
       "1442708      9000.0 2018-10-01       Debt consolidation  16.94    760xx    TX   \n",
       "433916      24000.0 2018-03-01           Major purchase      0    594xx    MT   \n",
       "435591       3000.0 2018-03-01  Credit card refinancing  12.83    480xx    MI   \n",
       "...             ...        ...                      ...    ...      ...   ...   \n",
       "9809266      7000.0 2018-01-06  Credit card refinancing  47.09    890xx    NV   \n",
       "10030958    10000.0 2018-01-17       Debt consolidation  58.42    790xx    TX   \n",
       "9946061     35000.0 2018-01-12                    Other   4.94    755xx    TX   \n",
       "9866939     10000.0 2018-01-09  Credit card refinancing  41.91    540xx    WI   \n",
       "9884401      1000.0 2018-01-10       Debt consolidation      0    294xx    SC   \n",
       "\n",
       "         emp_length  policy_code  funded  \n",
       "1376235      1 year          1.0       1  \n",
       "525943      4 years          1.0       1  \n",
       "1442708   10+ years          1.0       1  \n",
       "433916    10+ years          1.0       1  \n",
       "435591     < 1 year          1.0       1  \n",
       "...             ...          ...     ...  \n",
       "9809266    < 1 year          0.0       0  \n",
       "10030958   < 1 year          0.0       0  \n",
       "9946061    < 1 year          0.0       0  \n",
       "9866939    < 1 year          0.0       0  \n",
       "9884401    < 1 year          0.0       0  \n",
       "\n",
       "[300000 rows x 9 columns]"
      ]
     },
     "execution_count": 577,
     "metadata": {},
     "output_type": "execute_result"
    }
   ],
   "source": [
    "loan_df"
   ]
  },
  {
   "cell_type": "markdown",
   "metadata": {},
   "source": [
    "# 4. Pre-processing variables to regressable format"
   ]
  },
  {
   "cell_type": "markdown",
   "metadata": {},
   "source": [
    "#### loan_amnt\n",
    "Nicely formatted, all entries are numerical"
   ]
  },
  {
   "cell_type": "markdown",
   "metadata": {},
   "source": [
    "#### date\n",
    "We cannot reasonably expect the date to contain anything but noise about whether or not a loan becomes funded. E.g. we don't want the model to learn that it is really hard to get loans approved in February 2018.\n",
    "Perhaps if we performed some pre-processing, e.g. extracting the month or weekday we could see some seasonality effects. However, as predictive accuracy is not the purpose of this assignment, I choose to exclude date alltogether."
   ]
  },
  {
   "cell_type": "code",
   "execution_count": 578,
   "metadata": {},
   "outputs": [],
   "source": [
    "loan_df.drop(columns=[\"date\"], inplace=True)"
   ]
  },
  {
   "cell_type": "markdown",
   "metadata": {},
   "source": [
    "#### loan_title\n",
    "loan_title is an unordered categorical variable, make indicator variable for each value"
   ]
  },
  {
   "cell_type": "code",
   "execution_count": 579,
   "metadata": {},
   "outputs": [
    {
     "data": {
      "text/plain": [
       "Debt consolidation         136494\n",
       "Credit card refinancing     58812\n",
       "Other                       48310\n",
       "Home improvement            13062\n",
       "Car financing               10924\n",
       "Major purchase               7478\n",
       "Home buying                  6600\n",
       "Medical expenses             6557\n",
       "Moving and relocation        5367\n",
       "Business                     3762\n",
       "Vacation                     2323\n",
       "Green loan                    301\n",
       "Learning and training          10\n",
       "Name: loan_title, dtype: int64"
      ]
     },
     "execution_count": 579,
     "metadata": {},
     "output_type": "execute_result"
    }
   ],
   "source": [
    "loan_df[\"loan_title\"].value_counts()"
   ]
  },
  {
   "cell_type": "code",
   "execution_count": 580,
   "metadata": {},
   "outputs": [],
   "source": [
    "#Using the same division scheme as the above output, I will create a dummy variable for each using pd.get_dummies\n",
    "one_hot = pd.get_dummies(loan_df[\"loan_title\"])\n",
    "\n",
    "#add onehot encoding to df\n",
    "loan_df = loan_df.join(one_hot)\n",
    "\n",
    "#drop loan_title\n",
    "loan_df.drop('loan_title',axis = 1, inplace=True)"
   ]
  },
  {
   "cell_type": "code",
   "execution_count": 581,
   "metadata": {},
   "outputs": [
    {
     "data": {
      "text/html": [
       "<div>\n",
       "<style scoped>\n",
       "    .dataframe tbody tr th:only-of-type {\n",
       "        vertical-align: middle;\n",
       "    }\n",
       "\n",
       "    .dataframe tbody tr th {\n",
       "        vertical-align: top;\n",
       "    }\n",
       "\n",
       "    .dataframe thead th {\n",
       "        text-align: right;\n",
       "    }\n",
       "</style>\n",
       "<table border=\"1\" class=\"dataframe\">\n",
       "  <thead>\n",
       "    <tr style=\"text-align: right;\">\n",
       "      <th></th>\n",
       "      <th>loan_amnt</th>\n",
       "      <th>dti</th>\n",
       "      <th>zip_code</th>\n",
       "      <th>state</th>\n",
       "      <th>emp_length</th>\n",
       "      <th>policy_code</th>\n",
       "      <th>funded</th>\n",
       "      <th>Business</th>\n",
       "      <th>Car financing</th>\n",
       "      <th>Credit card refinancing</th>\n",
       "      <th>Debt consolidation</th>\n",
       "      <th>Green loan</th>\n",
       "      <th>Home buying</th>\n",
       "      <th>Home improvement</th>\n",
       "      <th>Learning and training</th>\n",
       "      <th>Major purchase</th>\n",
       "      <th>Medical expenses</th>\n",
       "      <th>Moving and relocation</th>\n",
       "      <th>Other</th>\n",
       "      <th>Vacation</th>\n",
       "    </tr>\n",
       "  </thead>\n",
       "  <tbody>\n",
       "    <tr>\n",
       "      <td>1376235</td>\n",
       "      <td>1500.0</td>\n",
       "      <td>18.67</td>\n",
       "      <td>379xx</td>\n",
       "      <td>TN</td>\n",
       "      <td>1 year</td>\n",
       "      <td>1.0</td>\n",
       "      <td>1</td>\n",
       "      <td>0</td>\n",
       "      <td>0</td>\n",
       "      <td>0</td>\n",
       "      <td>1</td>\n",
       "      <td>0</td>\n",
       "      <td>0</td>\n",
       "      <td>0</td>\n",
       "      <td>0</td>\n",
       "      <td>0</td>\n",
       "      <td>0</td>\n",
       "      <td>0</td>\n",
       "      <td>0</td>\n",
       "      <td>0</td>\n",
       "    </tr>\n",
       "    <tr>\n",
       "      <td>525943</td>\n",
       "      <td>7000.0</td>\n",
       "      <td>32.58</td>\n",
       "      <td>391xx</td>\n",
       "      <td>MS</td>\n",
       "      <td>4 years</td>\n",
       "      <td>1.0</td>\n",
       "      <td>1</td>\n",
       "      <td>0</td>\n",
       "      <td>1</td>\n",
       "      <td>0</td>\n",
       "      <td>0</td>\n",
       "      <td>0</td>\n",
       "      <td>0</td>\n",
       "      <td>0</td>\n",
       "      <td>0</td>\n",
       "      <td>0</td>\n",
       "      <td>0</td>\n",
       "      <td>0</td>\n",
       "      <td>0</td>\n",
       "      <td>0</td>\n",
       "    </tr>\n",
       "    <tr>\n",
       "      <td>1442708</td>\n",
       "      <td>9000.0</td>\n",
       "      <td>16.94</td>\n",
       "      <td>760xx</td>\n",
       "      <td>TX</td>\n",
       "      <td>10+ years</td>\n",
       "      <td>1.0</td>\n",
       "      <td>1</td>\n",
       "      <td>0</td>\n",
       "      <td>0</td>\n",
       "      <td>0</td>\n",
       "      <td>1</td>\n",
       "      <td>0</td>\n",
       "      <td>0</td>\n",
       "      <td>0</td>\n",
       "      <td>0</td>\n",
       "      <td>0</td>\n",
       "      <td>0</td>\n",
       "      <td>0</td>\n",
       "      <td>0</td>\n",
       "      <td>0</td>\n",
       "    </tr>\n",
       "    <tr>\n",
       "      <td>433916</td>\n",
       "      <td>24000.0</td>\n",
       "      <td>0</td>\n",
       "      <td>594xx</td>\n",
       "      <td>MT</td>\n",
       "      <td>10+ years</td>\n",
       "      <td>1.0</td>\n",
       "      <td>1</td>\n",
       "      <td>0</td>\n",
       "      <td>0</td>\n",
       "      <td>0</td>\n",
       "      <td>0</td>\n",
       "      <td>0</td>\n",
       "      <td>0</td>\n",
       "      <td>0</td>\n",
       "      <td>0</td>\n",
       "      <td>1</td>\n",
       "      <td>0</td>\n",
       "      <td>0</td>\n",
       "      <td>0</td>\n",
       "      <td>0</td>\n",
       "    </tr>\n",
       "    <tr>\n",
       "      <td>435591</td>\n",
       "      <td>3000.0</td>\n",
       "      <td>12.83</td>\n",
       "      <td>480xx</td>\n",
       "      <td>MI</td>\n",
       "      <td>&lt; 1 year</td>\n",
       "      <td>1.0</td>\n",
       "      <td>1</td>\n",
       "      <td>0</td>\n",
       "      <td>0</td>\n",
       "      <td>1</td>\n",
       "      <td>0</td>\n",
       "      <td>0</td>\n",
       "      <td>0</td>\n",
       "      <td>0</td>\n",
       "      <td>0</td>\n",
       "      <td>0</td>\n",
       "      <td>0</td>\n",
       "      <td>0</td>\n",
       "      <td>0</td>\n",
       "      <td>0</td>\n",
       "    </tr>\n",
       "    <tr>\n",
       "      <td>...</td>\n",
       "      <td>...</td>\n",
       "      <td>...</td>\n",
       "      <td>...</td>\n",
       "      <td>...</td>\n",
       "      <td>...</td>\n",
       "      <td>...</td>\n",
       "      <td>...</td>\n",
       "      <td>...</td>\n",
       "      <td>...</td>\n",
       "      <td>...</td>\n",
       "      <td>...</td>\n",
       "      <td>...</td>\n",
       "      <td>...</td>\n",
       "      <td>...</td>\n",
       "      <td>...</td>\n",
       "      <td>...</td>\n",
       "      <td>...</td>\n",
       "      <td>...</td>\n",
       "      <td>...</td>\n",
       "      <td>...</td>\n",
       "    </tr>\n",
       "    <tr>\n",
       "      <td>9809266</td>\n",
       "      <td>7000.0</td>\n",
       "      <td>47.09</td>\n",
       "      <td>890xx</td>\n",
       "      <td>NV</td>\n",
       "      <td>&lt; 1 year</td>\n",
       "      <td>0.0</td>\n",
       "      <td>0</td>\n",
       "      <td>0</td>\n",
       "      <td>0</td>\n",
       "      <td>1</td>\n",
       "      <td>0</td>\n",
       "      <td>0</td>\n",
       "      <td>0</td>\n",
       "      <td>0</td>\n",
       "      <td>0</td>\n",
       "      <td>0</td>\n",
       "      <td>0</td>\n",
       "      <td>0</td>\n",
       "      <td>0</td>\n",
       "      <td>0</td>\n",
       "    </tr>\n",
       "    <tr>\n",
       "      <td>10030958</td>\n",
       "      <td>10000.0</td>\n",
       "      <td>58.42</td>\n",
       "      <td>790xx</td>\n",
       "      <td>TX</td>\n",
       "      <td>&lt; 1 year</td>\n",
       "      <td>0.0</td>\n",
       "      <td>0</td>\n",
       "      <td>0</td>\n",
       "      <td>0</td>\n",
       "      <td>0</td>\n",
       "      <td>1</td>\n",
       "      <td>0</td>\n",
       "      <td>0</td>\n",
       "      <td>0</td>\n",
       "      <td>0</td>\n",
       "      <td>0</td>\n",
       "      <td>0</td>\n",
       "      <td>0</td>\n",
       "      <td>0</td>\n",
       "      <td>0</td>\n",
       "    </tr>\n",
       "    <tr>\n",
       "      <td>9946061</td>\n",
       "      <td>35000.0</td>\n",
       "      <td>4.94</td>\n",
       "      <td>755xx</td>\n",
       "      <td>TX</td>\n",
       "      <td>&lt; 1 year</td>\n",
       "      <td>0.0</td>\n",
       "      <td>0</td>\n",
       "      <td>0</td>\n",
       "      <td>0</td>\n",
       "      <td>0</td>\n",
       "      <td>0</td>\n",
       "      <td>0</td>\n",
       "      <td>0</td>\n",
       "      <td>0</td>\n",
       "      <td>0</td>\n",
       "      <td>0</td>\n",
       "      <td>0</td>\n",
       "      <td>0</td>\n",
       "      <td>1</td>\n",
       "      <td>0</td>\n",
       "    </tr>\n",
       "    <tr>\n",
       "      <td>9866939</td>\n",
       "      <td>10000.0</td>\n",
       "      <td>41.91</td>\n",
       "      <td>540xx</td>\n",
       "      <td>WI</td>\n",
       "      <td>&lt; 1 year</td>\n",
       "      <td>0.0</td>\n",
       "      <td>0</td>\n",
       "      <td>0</td>\n",
       "      <td>0</td>\n",
       "      <td>1</td>\n",
       "      <td>0</td>\n",
       "      <td>0</td>\n",
       "      <td>0</td>\n",
       "      <td>0</td>\n",
       "      <td>0</td>\n",
       "      <td>0</td>\n",
       "      <td>0</td>\n",
       "      <td>0</td>\n",
       "      <td>0</td>\n",
       "      <td>0</td>\n",
       "    </tr>\n",
       "    <tr>\n",
       "      <td>9884401</td>\n",
       "      <td>1000.0</td>\n",
       "      <td>0</td>\n",
       "      <td>294xx</td>\n",
       "      <td>SC</td>\n",
       "      <td>&lt; 1 year</td>\n",
       "      <td>0.0</td>\n",
       "      <td>0</td>\n",
       "      <td>0</td>\n",
       "      <td>0</td>\n",
       "      <td>0</td>\n",
       "      <td>1</td>\n",
       "      <td>0</td>\n",
       "      <td>0</td>\n",
       "      <td>0</td>\n",
       "      <td>0</td>\n",
       "      <td>0</td>\n",
       "      <td>0</td>\n",
       "      <td>0</td>\n",
       "      <td>0</td>\n",
       "      <td>0</td>\n",
       "    </tr>\n",
       "  </tbody>\n",
       "</table>\n",
       "<p>300000 rows × 20 columns</p>\n",
       "</div>"
      ],
      "text/plain": [
       "          loan_amnt    dti zip_code state emp_length  policy_code  funded  \\\n",
       "1376235      1500.0  18.67    379xx    TN     1 year          1.0       1   \n",
       "525943       7000.0  32.58    391xx    MS    4 years          1.0       1   \n",
       "1442708      9000.0  16.94    760xx    TX  10+ years          1.0       1   \n",
       "433916      24000.0      0    594xx    MT  10+ years          1.0       1   \n",
       "435591       3000.0  12.83    480xx    MI   < 1 year          1.0       1   \n",
       "...             ...    ...      ...   ...        ...          ...     ...   \n",
       "9809266      7000.0  47.09    890xx    NV   < 1 year          0.0       0   \n",
       "10030958    10000.0  58.42    790xx    TX   < 1 year          0.0       0   \n",
       "9946061     35000.0   4.94    755xx    TX   < 1 year          0.0       0   \n",
       "9866939     10000.0  41.91    540xx    WI   < 1 year          0.0       0   \n",
       "9884401      1000.0      0    294xx    SC   < 1 year          0.0       0   \n",
       "\n",
       "          Business  Car financing  Credit card refinancing  \\\n",
       "1376235          0              0                        0   \n",
       "525943           0              1                        0   \n",
       "1442708          0              0                        0   \n",
       "433916           0              0                        0   \n",
       "435591           0              0                        1   \n",
       "...            ...            ...                      ...   \n",
       "9809266          0              0                        1   \n",
       "10030958         0              0                        0   \n",
       "9946061          0              0                        0   \n",
       "9866939          0              0                        1   \n",
       "9884401          0              0                        0   \n",
       "\n",
       "          Debt consolidation  Green loan  Home buying  Home improvement  \\\n",
       "1376235                    1           0            0                 0   \n",
       "525943                     0           0            0                 0   \n",
       "1442708                    1           0            0                 0   \n",
       "433916                     0           0            0                 0   \n",
       "435591                     0           0            0                 0   \n",
       "...                      ...         ...          ...               ...   \n",
       "9809266                    0           0            0                 0   \n",
       "10030958                   1           0            0                 0   \n",
       "9946061                    0           0            0                 0   \n",
       "9866939                    0           0            0                 0   \n",
       "9884401                    1           0            0                 0   \n",
       "\n",
       "          Learning and training  Major purchase  Medical expenses  \\\n",
       "1376235                       0               0                 0   \n",
       "525943                        0               0                 0   \n",
       "1442708                       0               0                 0   \n",
       "433916                        0               1                 0   \n",
       "435591                        0               0                 0   \n",
       "...                         ...             ...               ...   \n",
       "9809266                       0               0                 0   \n",
       "10030958                      0               0                 0   \n",
       "9946061                       0               0                 0   \n",
       "9866939                       0               0                 0   \n",
       "9884401                       0               0                 0   \n",
       "\n",
       "          Moving and relocation  Other  Vacation  \n",
       "1376235                       0      0         0  \n",
       "525943                        0      0         0  \n",
       "1442708                       0      0         0  \n",
       "433916                        0      0         0  \n",
       "435591                        0      0         0  \n",
       "...                         ...    ...       ...  \n",
       "9809266                       0      0         0  \n",
       "10030958                      0      0         0  \n",
       "9946061                       0      1         0  \n",
       "9866939                       0      0         0  \n",
       "9884401                       0      0         0  \n",
       "\n",
       "[300000 rows x 20 columns]"
      ]
     },
     "execution_count": 581,
     "metadata": {},
     "output_type": "execute_result"
    }
   ],
   "source": [
    "loan_df"
   ]
  },
  {
   "cell_type": "markdown",
   "metadata": {},
   "source": [
    "#### dti\n",
    "All \"%\" are already removed. Now make all entries numerical."
   ]
  },
  {
   "cell_type": "code",
   "execution_count": 582,
   "metadata": {},
   "outputs": [],
   "source": [
    "loan_df[\"dti\"] = pd.to_numeric(loan_df[\"dti\"])"
   ]
  },
  {
   "cell_type": "markdown",
   "metadata": {},
   "source": [
    "#### zip_code\n",
    "Remove: the valuable information is contained in state."
   ]
  },
  {
   "cell_type": "code",
   "execution_count": 583,
   "metadata": {},
   "outputs": [],
   "source": [
    "loan_df.drop('zip_code',axis = 1, inplace=True)"
   ]
  },
  {
   "cell_type": "markdown",
   "metadata": {},
   "source": [
    "#### state\n",
    "state is an unordered categorical variable, make indicator variable for each value"
   ]
  },
  {
   "cell_type": "code",
   "execution_count": 584,
   "metadata": {},
   "outputs": [],
   "source": [
    "onehot = pd.get_dummies(loan_df[\"state\"])\n",
    "\n",
    "#add onehot encoding to df\n",
    "loan_df = loan_df.join(onehot)\n",
    "\n",
    "#drop state\n",
    "loan_df.drop('state',axis = 1, inplace=True)"
   ]
  },
  {
   "cell_type": "markdown",
   "metadata": {},
   "source": [
    "#### emp_length\n",
    "emplyment length is an ordered categorical variable. Since there is approx.1 year between each category, I will simply use the year number as the value for this variable. To do this, I remove everything except the number indicating the year from each variable. I round <1 to 0."
   ]
  },
  {
   "cell_type": "code",
   "execution_count": 585,
   "metadata": {},
   "outputs": [
    {
     "data": {
      "text/plain": [
       "< 1 year     155059\n",
       "10+ years     54866\n",
       "2 years       15813\n",
       "3 years       14607\n",
       "1 year        12896\n",
       "5 years       11974\n",
       "4 years       10893\n",
       "6 years        7507\n",
       "7 years        6141\n",
       "8 years        5840\n",
       "9 years        4404\n",
       "Name: emp_length, dtype: int64"
      ]
     },
     "execution_count": 585,
     "metadata": {},
     "output_type": "execute_result"
    }
   ],
   "source": [
    "loan_df[\"emp_length\"].value_counts()"
   ]
  },
  {
   "cell_type": "code",
   "execution_count": 586,
   "metadata": {},
   "outputs": [],
   "source": [
    "#Not pretty but fast to code:\n",
    "\n",
    "#Start by removing \"year\"\n",
    "loan_df.loc[:,['emp_length']] = np.array([x.replace('year','') for x in loan_df['emp_length']])\n",
    "\n",
    "#If it originally said \"years\", it now says \"s\" -> Remove \"s\"\n",
    "loan_df.loc[:,['emp_length']] = np.array([x.replace('s','') for x in loan_df['emp_length']])\n",
    "\n",
    "#From \"<1\" remove \"<\"\n",
    "loan_df.loc[:,['emp_length']] = np.array([x.replace('<','') for x in loan_df['emp_length']])\n",
    "\n",
    "#From \"+10\" remove \"+\"\n",
    "loan_df.loc[:,['emp_length']] = np.array([x.replace('+','') for x in loan_df['emp_length']])\n",
    "\n",
    "#Convert to numerical\n",
    "loan_df['emp_length'] = pd.to_numeric(loan_df['emp_length'])"
   ]
  },
  {
   "cell_type": "code",
   "execution_count": 587,
   "metadata": {},
   "outputs": [
    {
     "data": {
      "text/plain": [
       "1     167955\n",
       "10     54866\n",
       "2      15813\n",
       "3      14607\n",
       "5      11974\n",
       "4      10893\n",
       "6       7507\n",
       "7       6141\n",
       "8       5840\n",
       "9       4404\n",
       "Name: emp_length, dtype: int64"
      ]
     },
     "execution_count": 587,
     "metadata": {},
     "output_type": "execute_result"
    }
   ],
   "source": [
    "loan_df[\"emp_length\"].value_counts()"
   ]
  },
  {
   "cell_type": "markdown",
   "metadata": {},
   "source": [
    "#### policy_code\n",
    "\n",
    "We drop policy code because it is correlated with the outcome variable."
   ]
  },
  {
   "cell_type": "code",
   "execution_count": 588,
   "metadata": {},
   "outputs": [],
   "source": [
    "loan_df.drop(columns=[\"policy_code\"], inplace=True)"
   ]
  },
  {
   "cell_type": "markdown",
   "metadata": {},
   "source": [
    "# Model fitting and evaluation\n",
    "\n",
    "## Splitting data into training and test sets"
   ]
  },
  {
   "cell_type": "code",
   "execution_count": 616,
   "metadata": {},
   "outputs": [],
   "source": [
    "#Outcome variable\n",
    "y = loan_df[\"funded\"]\n",
    "\n",
    "#Predictor variables, all except the outcome variable\n",
    "X = loan_df.loc[:, loan_df.columns != 'funded']"
   ]
  },
  {
   "cell_type": "code",
   "execution_count": 590,
   "metadata": {},
   "outputs": [],
   "source": [
    "from sklearn.model_selection import train_test_split\n",
    "X_train,X_test,y_train,y_test = train_test_split(X,y,test_size=0.1,random_state=2)"
   ]
  },
  {
   "cell_type": "code",
   "execution_count": 591,
   "metadata": {},
   "outputs": [
    {
     "name": "stdout",
     "output_type": "stream",
     "text": [
      "(270000, 67)\n",
      "(30000, 67)\n"
     ]
    }
   ],
   "source": [
    "#shape of train and test objects\n",
    "print(X_train.shape)\n",
    "print(X_test.shape)"
   ]
  },
  {
   "cell_type": "code",
   "execution_count": 592,
   "metadata": {},
   "outputs": [
    {
     "name": "stdout",
     "output_type": "stream",
     "text": [
      "(270000,)\n",
      "(30000,)\n"
     ]
    }
   ],
   "source": [
    "# shape of new y objects\n",
    "print(y_train.shape)\n",
    "print(y_test.shape)"
   ]
  },
  {
   "cell_type": "markdown",
   "metadata": {},
   "source": [
    "## Model selection\n",
    "\n",
    "My approach to building a model that predicts the largest loan amount that will be successfully funded for given individual that can then be used to advise applicants on how much they could apply for, will use logistic regression. The idea is this, I will train a logistic regression with \"funded\" as the outcome variables, using the remaining variables as predictors. The output of the logistic regression, bounded on the range 0 and 1, can be interpreted as the probability that the a loan application will be accepted given the applicants application profile. Consequently, the model can be used to predict the maximum loan that will be granted by the following method:\n",
    "1. For any given applicant, all covariates are fixed. For example, they come from a certain state and no other etc. With the exception of the loan amount.\n",
    "2. Using the logistic regression model to make predictions, we hold all covariates fixes, varying the loan amount. We can then predict the probability that certain applicant will have his loan application successfully funded as a function of the loan amount he requests. \n",
    "3. Because the model is linear in the parameters, a negative coefficient on the loan amount will mean that the probability of getting a loan funded is strictly decreasing with the loan amount. Consequently, we select some desired probability of getting the loan funded, e.g. 99%, and then increase the loan amount until the desired probability is reached. We define this loan value to be the \"largest loan amount\" a certain applicant can expect to get funded, given his certainty contraints.\n",
    "\n",
    "To fit the model:\n",
    "1. We use cross validation to select the best regularization parameter c.\n",
    "2. We then fit the model using the best c on all the training data.\n",
    "3. We evaluate performance on the test set\n",
    "4. We then train the model on all the data, and define a function for predicting the maximimum value."
   ]
  },
  {
   "cell_type": "code",
   "execution_count": 593,
   "metadata": {},
   "outputs": [],
   "source": [
    "from sklearn.linear_model import LogisticRegression\n",
    "from sklearn.model_selection import cross_validate\n",
    "from sklearn.metrics import accuracy_score, recall_score, precision_score, f1_score"
   ]
  },
  {
   "cell_type": "code",
   "execution_count": 594,
   "metadata": {},
   "outputs": [],
   "source": [
    "#Try running from c=1 through 25 and record testing accuracy\n",
    "c_values = [0.001,0.01,0.1,1,10,100]\n",
    "scores = {}\n",
    "accuracy_list = []\n",
    "precision_list = []\n",
    "recall_list = []\n",
    "f1_list = []\n",
    "\n",
    "\n",
    "for k in c_values:\n",
    "    model = LogisticRegression(C=k, solver=\"lbfgs\", max_iter=1000)\n",
    "    cv_results = cross_validate(model, X_train, y_train,\n",
    "                            scoring=['accuracy', \"precision\", \"recall\", \"f1\"], cv=5)\n",
    "    \n",
    "    #Store average accuracy accross the five splits\n",
    "    accuracy_list.append(np.mean(cv_results['test_accuracy']))\n",
    "    precision_list.append(np.mean(cv_results['test_precision']))\n",
    "    recall_list.append(np.mean(cv_results['test_recall']))\n",
    "    f1_list.append(np.mean(cv_results['test_f1']))"
   ]
  },
  {
   "cell_type": "markdown",
   "metadata": {},
   "source": [
    "## Plotting test performance metrics for each C"
   ]
  },
  {
   "cell_type": "code",
   "execution_count": 595,
   "metadata": {},
   "outputs": [
    {
     "data": {
      "image/png": "[encoded data removed]",
      "text/plain": [
       "<Figure size 432x288 with 1 Axes>"
      ]
     },
     "metadata": {
      "needs_background": "light"
     },
     "output_type": "display_data"
    }
   ],
   "source": [
    "import matplotlib.pyplot as plt\n",
    "%matplotlib inline\n",
    "\n",
    "#Using a loged x-axis as the c values differ by an order of magnitude each\n",
    "plt.semilogx(c_values, accuracy_list, label=\"Accuracy\")\n",
    "plt.semilogx(c_values, recall_list, label=\"Recall\")\n",
    "plt.semilogx(c_values, precision_list, label=\"Precision\")\n",
    "plt.semilogx(c_values, f1_list, label=\"F1\")\n",
    "plt.legend(loc=0)\n",
    "plt.xlabel('Value of C for Logistic Regression')\n",
    "plt.ylabel('Testing Accuracy')\n",
    "plt.show()"
   ]
  },
  {
   "cell_type": "markdown",
   "metadata": {},
   "source": [
    "# Evaluating performance on the test set"
   ]
  },
  {
   "cell_type": "code",
   "execution_count": 602,
   "metadata": {},
   "outputs": [
    {
     "name": "stdout",
     "output_type": "stream",
     "text": [
      "0.7146666666666667\n"
     ]
    }
   ],
   "source": [
    "#Selecting c=0.1 as it has the highest value for all performance estimators,\n",
    "#and training on the entire training set\n",
    "model = LogisticRegression(C=0.01, solver=\"lbfgs\", max_iter=1000)\n",
    "model.fit(X_train,y_train)\n",
    "\n",
    "#Making prediction on the unseen test data\n",
    "y_pred=model.predict(X_test)\n",
    "print(accuracy_score(y_test,y_pred))"
   ]
  },
  {
   "cell_type": "code",
   "execution_count": 666,
   "metadata": {},
   "outputs": [
    {
     "data": {
      "text/plain": [
       "count    150000.000000\n",
       "mean      16308.819000\n",
       "std       10207.713648\n",
       "min        1000.000000\n",
       "25%        8500.000000\n",
       "50%       14400.000000\n",
       "75%       22825.000000\n",
       "max       40000.000000\n",
       "Name: loan_amnt, dtype: float64"
      ]
     },
     "execution_count": 666,
     "metadata": {},
     "output_type": "execute_result"
    }
   ],
   "source": [
    "loan_df[loan_df.funded ==1].loan_amnt.describe()"
   ]
  },
  {
   "cell_type": "code",
   "execution_count": 667,
   "metadata": {},
   "outputs": [
    {
     "data": {
      "text/plain": [
       "count    150000.000000\n",
       "mean      11366.542833\n",
       "std       10630.050884\n",
       "min        1000.000000\n",
       "25%        3000.000000\n",
       "50%        8000.000000\n",
       "75%       15500.000000\n",
       "max       90725.000000\n",
       "Name: loan_amnt, dtype: float64"
      ]
     },
     "execution_count": 667,
     "metadata": {},
     "output_type": "execute_result"
    }
   ],
   "source": [
    "loan_df[loan_df.funded ==0].loan_amnt.describe()"
   ]
  },
  {
   "cell_type": "code",
   "execution_count": 627,
   "metadata": {},
   "outputs": [
    {
     "data": {
      "text/plain": [
       "array([[-1.35144501e-05, -3.74733950e-02,  4.86620750e-01,\n",
       "        -1.02062917e-03, -6.25858191e-03,  1.30229466e-02,\n",
       "         8.73433919e-03, -1.11395400e-04, -3.27424337e-03,\n",
       "         4.42538027e-03, -6.73495709e-06, -8.21693687e-04,\n",
       "        -2.07842779e-03, -2.75893067e-03, -2.23140217e-02,\n",
       "         2.94259994e-05, -5.71520180e-05, -8.14596947e-04,\n",
       "        -4.29896703e-04,  1.17397980e-04,  7.26149661e-04,\n",
       "         3.28462153e-04,  2.60701266e-04, -6.58498795e-05,\n",
       "        -3.36474057e-05, -1.52728667e-03, -1.35975570e-03,\n",
       "        -2.37012729e-04, -2.07898724e-06, -9.98264027e-05,\n",
       "         1.26098260e-04, -5.34433006e-04, -9.67015866e-05,\n",
       "        -5.24520389e-04, -7.49554115e-04, -7.38097036e-05,\n",
       "        -1.94332016e-04, -4.91229659e-05, -4.45858050e-04,\n",
       "         1.80918831e-04, -3.05866583e-04, -8.51080299e-04,\n",
       "         2.40311079e-05, -8.26279565e-04, -5.11651663e-05,\n",
       "        -1.72099540e-05,  1.05886733e-04,  9.64136908e-05,\n",
       "        -1.36807176e-04,  2.64623224e-04,  1.13225362e-04,\n",
       "        -6.53989396e-04, -2.02098810e-04,  3.84942063e-06,\n",
       "        -9.72219766e-04,  6.28911285e-05, -7.19331352e-04,\n",
       "        -5.01297868e-06, -7.86191604e-04, -1.58837862e-03,\n",
       "        -1.14621078e-04, -2.25594954e-04,  5.44819621e-05,\n",
       "        -2.30744161e-05,  6.81998527e-06, -1.54275551e-04,\n",
       "         2.41151753e-05]])"
      ]
     },
     "execution_count": 627,
     "metadata": {},
     "output_type": "execute_result"
    }
   ],
   "source": [
    "#Reviewing the coefficients of the table.\n",
    "\n",
    "#We see that the loan amount has a negative coefficient, \n",
    "#agreeing with out intuition that, all else constant, \n",
    "#higher loans amounts correspond to lower chances of successfully funding\n",
    "model.coef_"
   ]
  },
  {
   "cell_type": "markdown",
   "metadata": {},
   "source": [
    "## Predicting the maximum loan amount for some person"
   ]
  },
  {
   "cell_type": "markdown",
   "metadata": {},
   "source": [
    "Normally I would run the agreed upon model on all the data before doing predictions, as more date is preferable to less for prediction tasks. However, I save the test individuals to use as examples for the prediction task."
   ]
  },
  {
   "cell_type": "code",
   "execution_count": 670,
   "metadata": {},
   "outputs": [],
   "source": [
    "def loan_probabilities(x):\n",
    "    '''\n",
    "    Takes index of person in test set,\n",
    "    Returns two lists, one showing the loan amounts and a second list\n",
    "    showing the corresponding probability of funding at the corresponding index\n",
    "    '''\n",
    "    #Taking the first person in the test set\n",
    "    test_person = np.array(X_test.iloc[x]).reshape(1, -1)\n",
    "    test_person.reshape(1,67)\n",
    "\n",
    "    loan_amnt_list = []\n",
    "    probabilities_list = []\n",
    "    for i in range(179):\n",
    "            loan_amnt = 1000+500*i\n",
    "            loan_amnt_list.append(loan_amnt)\n",
    "\n",
    "            #Update the loan amount\n",
    "            test_person[0][0] = loan_amnt\n",
    "\n",
    "            #Predict probability of successfully funded, given loan amount\n",
    "            probabilities_list.append(model.predict_proba(test_person)[0][1])\n",
    "    \n",
    "    return loan_amnt_list, probabilities_list"
   ]
  },
  {
   "cell_type": "code",
   "execution_count": 671,
   "metadata": {},
   "outputs": [
    {
     "data": {
      "image/png": "[encoded data removed]",
      "text/plain": [
       "<Figure size 432x288 with 1 Axes>"
      ]
     },
     "metadata": {
      "needs_background": "light"
     },
     "output_type": "display_data"
    }
   ],
   "source": [
    "loan_amnt_list, probabilities_list0 = loan_probabilities(0)\n",
    "loan_amnt_list, probabilities_list1 = loan_probabilities(1)\n",
    "\n",
    "#Using a loged x-axis as the c values differ by an order of magnitude each\n",
    "plt.plot(loan_amnt_list, probabilities_list0, label=\"Person1\")\n",
    "plt.plot(loan_amnt_list, probabilities_list1, label=\"Person2\")\n",
    "plt.legend(loc=0)\n",
    "plt.xlabel('loan amount')\n",
    "plt.ylabel('Probability of funding (fraction)')\n",
    "plt.show()"
   ]
  },
  {
   "cell_type": "markdown",
   "metadata": {},
   "source": [
    "The above figure illustrates the probability for the two first people in the dataset to have his loan successfully funded as a function of the loan size. This is thus an example of the procedure defined above. It doesn't seem this particular individual is very likeli to get a loan regardless of the loan amount, the second person is much more likely to get the loan approved for any loan size. Adjusting the loan sizes in the function above, this could be a useful visual tool to help consumers inform themselves about what is a suitable loan size for them. Incorporating an x-line that shows at what loan amount the probbility of success reaches a certain, user chosen, threshhold would make it even more helpful."
   ]
  },
  {
   "cell_type": "code",
   "execution_count": null,
   "metadata": {},
   "outputs": [],
   "source": [
    "X = loan_df[\"loan_amnt\"]\n",
    "\n",
    "from sklearn.model_selection import train_test_split\n",
    "X_train,X_test,y_train,y_test = train_test_split(X,y,test_size=0.1,random_state=2)"
   ]
  },
  {
   "cell_type": "code",
   "execution_count": 668,
   "metadata": {},
   "outputs": [
    {
     "name": "stdout",
     "output_type": "stream",
     "text": [
      "0.7146666666666667\n"
     ]
    }
   ],
   "source": [
    "#Selecting c=0.1 as it has the highest value for all performance estimators,\n",
    "#and training on the entire training set\n",
    "model = LogisticRegression(C=0.01, solver=\"lbfgs\", max_iter=1000)\n",
    "model.fit(X_train,y_train)\n",
    "\n",
    "#Making prediction on the unseen test data\n",
    "y_pred=model.predict(X_test)\n",
    "print(accuracy_score(y_test,y_pred))"
   ]
  }
 ],
 "metadata": {
  "kernelspec": {
   "display_name": "Python 3",
   "language": "python",
   "name": "python3"
  },
  "language_info": {
   "codemirror_mode": {
    "name": "ipython",
    "version": 3
   },
   "file_extension": ".py",
   "mimetype": "text/x-python",
   "name": "python",
   "nbconvert_exporter": "python",
   "pygments_lexer": "ipython3",
   "version": "3.6.9"
  }
 },
 "nbformat": 4,
 "nbformat_minor": 2
}
