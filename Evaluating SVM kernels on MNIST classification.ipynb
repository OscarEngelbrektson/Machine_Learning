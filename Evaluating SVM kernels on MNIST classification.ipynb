{
 "cells": [
  {
   "cell_type": "markdown",
   "metadata": {},
   "source": [
    "# Assignment 4 - MNIST Digits\n",
    "## CS156, Prof. Sterne\n",
    "## Oscar Engelbrektson, Fall 2019\n",
    "\n",
    "We are going to revisit the MNIST dataset from the first weekly assignment.\n",
    "\n",
    "Load the entire MNIST digit dataset: [http://yann.lecun.com/exdb/mnist/](http://yann.lecun.com/exdb/mnist/ \"http://yann.lecun.com/exdb/mnist/\"%29. You will probably find the following gist useful: https://gist.github.com/MFathirIrhas/f24d61d134b014da029a.\n",
    "Choose two digit classes (e.g 7s and 3s) from the training data, and plot some of the examples.\n",
    "\n",
    "Train a support vector classifier using each of the following kernels:\n",
    "1. Linear\n",
    "2. Poly\n",
    "3. RBF\n",
    "\n",
    "(If you encounter any issues with training time or memory issues, then you may use a reduced dataset, but carefully detail how you reduced the dataset.)\n",
    "\n",
    "Report your training times on the dataset for the different kernels.\n",
    "\n",
    "Report your error rates on the testing dataset for the different kernels."
   ]
  },
  {
   "cell_type": "code",
   "execution_count": 2,
   "metadata": {},
   "outputs": [],
   "source": [
    "#Loading the dataset\n",
    "import os\n",
    "import struct\n",
    "from array import array as pyarray\n",
    "import numpy as np\n",
    "import matplotlib.pyplot as plt\n",
    "import matplotlib as mpl\n",
    "import random"
   ]
  },
  {
   "cell_type": "markdown",
   "metadata": {},
   "source": [
    "## Loading 2 digits from the MNIST dataset"
   ]
  },
  {
   "cell_type": "code",
   "execution_count": 3,
   "metadata": {},
   "outputs": [],
   "source": [
    "#Function from https://gist.github.com/MFathirIrhas/f24d61d134b014da029a\n",
    "def load_mnist(dataset=\"training\", digits=np.arange(10), path=\".\", size = 60000):\n",
    "    #Gets files from computer\n",
    "    if dataset == \"training\":\n",
    "        fname_img = os.path.join(path, 'train-images-idx3-ubyte')\n",
    "        fname_lbl = os.path.join(path, 'train-labels-idx1-ubyte')\n",
    "    elif dataset == \"testing\":\n",
    "        fname_img = os.path.join(path, 't10k-images-idx3-ubyte')\n",
    "        fname_lbl = os.path.join(path, 't10k-labels-idx1-ubyte')\n",
    "    \n",
    "    else:\n",
    "        raise ValueError(\"dataset must be 'testing' or 'training'\")\n",
    "        \n",
    "    #Unpack lables from file\n",
    "    flbl = open(fname_lbl, 'rb')\n",
    "    magic_nr, size = struct.unpack(\">II\", flbl.read(8))\n",
    "    lbl = pyarray(\"b\", flbl.read())\n",
    "    flbl.close()\n",
    "    \n",
    "    #Unpack images from file\n",
    "    fimg = open(fname_img, 'rb')\n",
    "    magic_nr, size, rows, cols = struct.unpack(\">IIII\", fimg.read(16))\n",
    "    img = pyarray(\"B\", fimg.read())\n",
    "    fimg.close()\n",
    "    \n",
    "    #Represent images and lables appropriately structured numpyarrays\n",
    "    #And match them up such that the label at index i in labels corresponds \n",
    "    #to image i in images\n",
    "    ind = [ k for k in range(size) if lbl[k] in digits ]\n",
    "    N = size #int(len(ind) * size/100.)\n",
    "    images = np.zeros((N, rows, cols), dtype=\"uint8\")\n",
    "    labels = np.zeros((N, 1), dtype=\"int8\")\n",
    "    for i in range(N): #int(len(ind) * size/100.)):\n",
    "        images[i] = np.array(img[ ind[i]*rows*cols : (ind[i]+1)*rows*cols ])\\\n",
    "            .reshape((rows, cols))\n",
    "        labels[i] = lbl[ind[i]]\n",
    "    labels = [label[0] for label in labels]\n",
    "    return np.array(images), np.array(labels)"
   ]
  },
  {
   "cell_type": "code",
   "execution_count": 4,
   "metadata": {},
   "outputs": [],
   "source": [
    "def load_2digits(a, b, subset=False):\n",
    "    '''\n",
    "    Returns arrays X_train, y_train, X_test, y_test\n",
    "    Xs with images and ys with labels\n",
    "    for two digits a, b in MNIST\n",
    "    Subset redeuces training data by extracting a random subset of size subset\n",
    "    '''\n",
    "    #Load entire data set\n",
    "    X_train, y_train = load_mnist(dataset=\"training\", path=\"/Users/oscarengelbrektson/Downloads/\")\n",
    "    X_test, y_test = load_mnist(dataset=\"testing\", path=\"/Users/oscarengelbrektson/Downloads/\")\n",
    "    \n",
    "    \n",
    "    #Extract desired subset\n",
    "    train_indices = np.where((y_train == a) | (y_train == b))[0]\n",
    "    if subset is not False:\n",
    "            random.seed(42)\n",
    "            train_indices = random.sample(list(train_indices), subset)\n",
    "    y_train = y_train[train_indices]\n",
    "    X_train = X_train[train_indices]\n",
    "    \n",
    "    #Print some images\n",
    "    fig, ax = plt.subplots(nrows=3, ncols=3, constrained_layout=True)\n",
    "    fig.tight_layout(h_pad=2)\n",
    "    i = 0\n",
    "    for col in ax.flat:\n",
    "        index = random.randint(0, len(X_train))\n",
    "        plt.gray()\n",
    "        col.matshow(X_train[index])\n",
    "        col.set_title(y_train[index])\n",
    "        i+=1\n",
    "    plt.show()\n",
    "    \n",
    "    #Flatten every image\n",
    "    X_train = np.array([X_train[i].flatten() for i in range(len(X_train))])\n",
    "    \n",
    "    #Repeating for the testset\n",
    "    test_indices = np.where((y_test == a) | (y_test == b))[0]\n",
    "    y_test = y_test[test_indices]\n",
    "    X_test = X_test[test_indices]\n",
    "    \n",
    "    \n",
    "    #Flatten every image\n",
    "    X_test = np.array([X_test[i].flatten() for i in range(len(X_test))])\n",
    "    \n",
    "    return X_train, y_train, X_test, y_test"
   ]
  },
  {
   "cell_type": "markdown",
   "metadata": {},
   "source": [
    "The subset argument allows the user to reduce the size of the training set. It does so \n",
    "The reason one might want to do this is reduce memory and computation needed to train models, particularly more costly techniques like gridsearch cross validation.\n",
    "We keep the entire test set always because it is standardized so that different models, made by different people, can be benchmarked against it and compared (also, it does not pose the same computational/memory problems as the training set as it is both much smaller and only ever used to test the model). "
   ]
  },
  {
   "cell_type": "code",
   "execution_count": 5,
   "metadata": {},
   "outputs": [
    {
     "name": "stderr",
     "output_type": "stream",
     "text": [
      "/Users/oscarengelbrektson/anaconda/lib/python3.6/site-packages/ipykernel_launcher.py:23: UserWarning: This figure was using constrained_layout==True, but that is incompatible with subplots_adjust and or tight_layout: setting constrained_layout==False. \n"
     ]
    },
    {
     "data": {
      "image/png": "[encoded data removed]",
      "text/plain": [
       "<Figure size 432x288 with 9 Axes>"
      ]
     },
     "metadata": {
      "needs_background": "light"
     },
     "output_type": "display_data"
    }
   ],
   "source": [
    "#Load digits 5, 6 from MNIST dataset, make training set size 300\n",
    "#Pictures are 28x28 pixels.\n",
    "#For modelling we flatten the pictures into a 1-d array of 28*28=784 pixels\n",
    "X_train, y_train, X_test, y_test = load_2digits(5, 6, subset=1000)"
   ]
  },
  {
   "cell_type": "code",
   "execution_count": 7,
   "metadata": {},
   "outputs": [
    {
     "data": {
      "text/plain": [
       "(784,)"
      ]
     },
     "execution_count": 7,
     "metadata": {},
     "output_type": "execute_result"
    }
   ],
   "source": [
    "X_train[0].shape"
   ]
  },
  {
   "cell_type": "code",
   "execution_count": 218,
   "metadata": {},
   "outputs": [
    {
     "name": "stdout",
     "output_type": "stream",
     "text": [
      "(1000, 784)\n",
      "(1850, 784)\n"
     ]
    }
   ],
   "source": [
    "#shape of train and test objects\n",
    "print(X_train.shape)\n",
    "print(X_test.shape)"
   ]
  },
  {
   "cell_type": "code",
   "execution_count": 219,
   "metadata": {},
   "outputs": [
    {
     "name": "stdout",
     "output_type": "stream",
     "text": [
      "(1000,)\n",
      "(1850,)\n"
     ]
    }
   ],
   "source": [
    "# shape of new y objects\n",
    "print(y_train.shape)\n",
    "print(y_test.shape)"
   ]
  },
  {
   "cell_type": "markdown",
   "metadata": {},
   "source": [
    "# Fitting SVMs\n",
    "Our aim is to accurately clasify whether a digit image is of a 5 or a 6, given an array representing the image of the digit. We have no preferences as to which types of error are more or less desirable, we simply want to be right as often as possible. Consequently, I have decided progress towards this objective is best captured by classification accuracy.\n",
    "\n",
    "For each kernel, prior to fitting the model on all the training data, cross validation will be used to select hyperparameter settings. The parameter settings that maximise the average validation set accuracy across the five folds will be selected."
   ]
  },
  {
   "cell_type": "code",
   "execution_count": 296,
   "metadata": {},
   "outputs": [],
   "source": [
    "#Support Vector Machines\n",
    "from sklearn import svm\n",
    "\n",
    "#Model selection and evaluation\n",
    "from sklearn.model_selection import cross_validate, StratifiedShuffleSplit, GridSearchCV, StratifiedKFold\n",
    "from sklearn.metrics import accuracy_score\n",
    "import time"
   ]
  },
  {
   "cell_type": "markdown",
   "metadata": {},
   "source": [
    "# Linear SVM\n",
    "\n",
    "All SVMs have the hyperparameter C in common. Conceptually, it specifies a tradeoff between training set classification accuracy and model smoothness. Large values of C means that the model will place larger value on correctly classifying all training data, whilst lower values of C means that keeping the decision surface smooth (i.e. not change much for small variations in X). It can thus be thought of as a regularization parameter. As such, selecting appropriate values for these hyperparameters is very important for model performance (scikit-learn.org, n.d). Cross validation is performed on a wide range of values for C, from e-8 to e8 with one order or magnitude between each value.\n",
    "\n",
    "The cross validation procudure will use 5-folds, with a 80/20 train-validation data split each iteration. "
   ]
  },
  {
   "cell_type": "code",
   "execution_count": 221,
   "metadata": {
    "scrolled": false
   },
   "outputs": [],
   "source": [
    "#Selecting parameters to try in CV\n",
    "c_range = [10**x for x in range(-8, 9)]\n",
    "scores_list = []\n",
    "\n",
    "#for every value of C, perform cross validation \n",
    "#and record the average validation set accuracy\n",
    "for c in c_range:\n",
    "    model = svm.LinearSVC(C=c, max_iter=10000)\n",
    "    cv_results = cross_validate(model, X_train, y_train,\n",
    "                            scoring=['accuracy'], cv=5)\n",
    "    \n",
    "    #Store average accuracy accross the five splits\n",
    "    scores_list.append(np.mean(cv_results['test_accuracy']))"
   ]
  },
  {
   "cell_type": "code",
   "execution_count": 304,
   "metadata": {},
   "outputs": [
    {
     "name": "stdout",
     "output_type": "stream",
     "text": [
      "The best parameters are C=1e-07 with a accuracy of 0.981\n"
     ]
    },
    {
     "data": {
      "image/png": "[encoded data removed]",
      "text/plain": [
       "<Figure size 432x288 with 1 Axes>"
      ]
     },
     "metadata": {
      "needs_background": "light"
     },
     "output_type": "display_data"
    }
   ],
   "source": [
    "#Visualize CV results for the different Cs\n",
    "print(\"The best parameters are C=%s with a accuracy of %0.3f\"\n",
    "      % (c_range[np.argmax(scores_list)], max(scores_list)))\n",
    "\n",
    "plt.semilogx(c_range,scores_list)\n",
    "plt.xlabel('Value of C for Linear SVM')\n",
    "plt.ylabel('Validation Accuracy')\n",
    "plt.show()"
   ]
  },
  {
   "cell_type": "markdown",
   "metadata": {},
   "source": [
    "Fitting the model with the best hyperparameters from CV and training on all the data, then evaluating classification accuracy on the test set"
   ]
  },
  {
   "cell_type": "code",
   "execution_count": 223,
   "metadata": {},
   "outputs": [],
   "source": [
    "def testing_accuracy(model):\n",
    "    '''\n",
    "    Trains model on entire training set\n",
    "    Returns testset classification accuracy and training time in microseconds\n",
    "    '''\n",
    "    #Fitting the model on the entire training set and taking the time\n",
    "    start = time.time()\n",
    "    model.fit(X_train,y_train)\n",
    "    end=time.time()\n",
    "    train_time = 1000*(end-start)\n",
    "\n",
    "    #Making prediction on the unseen test data\n",
    "    y_pred=model.predict(X_test)\n",
    "    return accuracy_score(y_test,y_pred), train_time"
   ]
  },
  {
   "cell_type": "code",
   "execution_count": 283,
   "metadata": {},
   "outputs": [
    {
     "name": "stdout",
     "output_type": "stream",
     "text": [
      "The test set classification accuracy is 0.971 and it took 8.58 microseconds to train the model\n"
     ]
    }
   ],
   "source": [
    "print(\"The test set classification accuracy is %0.3f and it took %0.2f microseconds to train the model\"\n",
    "      % testing_accuracy(svm.LinearSVC(C=10**-7)))"
   ]
  },
  {
   "cell_type": "markdown",
   "metadata": {},
   "source": [
    "# SVM with Poly kernel\n",
    "An SVM with a polynomial kernel has, in addition to C, one additional hyperparameter, degree, which specifies the degree of the polynomial. Higher order polynomials are more flexible and can thus generate decision boundaries which misclassify fewer of the training data. However, too high degree of the polynomial often results in too flexible decision boundaries which overfit the data, resulting in poor testset performance (high variance). Conversely, too low degree of the polynomial may result in underfitting the data (high bias). It is thus important to select a degree that offers a good tradeoff between bias and variance.\n",
    "\n",
    "We use Gridsearch cross validation to examine the performance of each degree, c pair. Here also, we use exponential spacing between each step of c, between 1e-10 and 1e4 (the search was expanded as the optimal result was on the edge at 1e-0.7, to make sure more extreme values were not better). As degree=1 is just a linear kernel (already fitted above) I tried degrees 2 through 7."
   ]
  },
  {
   "cell_type": "code",
   "execution_count": 300,
   "metadata": {},
   "outputs": [
    {
     "name": "stdout",
     "output_type": "stream",
     "text": [
      "The best parameters are {'C': 1e-07, 'degree': 2} with a score of 0.982\n"
     ]
    }
   ],
   "source": [
    "#Selecting parameters to try in Grid CV\n",
    "C_range = [10**x for x in range(-10, 4)]\n",
    "degree_range = [x for x in range(2, 8)]\n",
    "parameters = {'degree':degree_range, \n",
    "              'C':C_range}\n",
    "\n",
    "#Make SVM\n",
    "svc = svm.SVC(kernel=\"poly\")\n",
    "\n",
    "#Define data splitting procedure:\n",
    "#5 folds, 80/20 train-validation split in each\n",
    "cv = StratifiedKFold(n_splits=5, random_state=42)\n",
    "#Try each parameter combination and store resuls\n",
    "grid = GridSearchCV(svc, parameters, cv=5)\n",
    "grid.fit(X_train, y_train)\n",
    "\n",
    "print(\"The best parameters are %s with a score of %0.3f\"\n",
    "      % (grid.best_params_, grid.best_score_))"
   ]
  },
  {
   "cell_type": "markdown",
   "metadata": {},
   "source": [
    "Fitting the model with the best hyperparameters from CV and training on all the data, then evaluating classification accuracy on the test set"
   ]
  },
  {
   "cell_type": "code",
   "execution_count": 301,
   "metadata": {},
   "outputs": [
    {
     "name": "stdout",
     "output_type": "stream",
     "text": [
      "The test set classification accuracy is 0.981 and it took 137.5 microseconds to train the model\n"
     ]
    }
   ],
   "source": [
    "print(\"The test set classification accuracy is %0.3f and it took %0.1f microseconds to train the model\"\n",
    "      % testing_accuracy(svm.SVC(kernel=\"poly\", degree=2, C=10**-7)))"
   ]
  },
  {
   "cell_type": "markdown",
   "metadata": {},
   "source": [
    "# SVM with RBF kernel\n",
    "An SVM with a RBF kernel has, in addition to C, one additional hyperparameter, gamma, which how close away data  have to be to affect the decision boundary at a point. Higher values of gamma mean that only data closeby are taken into consideration, resulting in a more flexible decision boundary. Conversely, smaller values of gamma mean data from a wider range affect the decision boundary at each point, resulting in a smoother decision function. Consequently, gamma can be thought of as a parameter that guides the smoothness of the decision boundary. As is often the case, choosing the right value for gamma is about determining the appropriate bias-variance trade-off (for the same reasons as explained in poly kernel) (scikit-learn.org, n.d.)\n",
    "\n",
    "Similar to the poly kernel procedure, we use Gridsearch cross validation to examine the performance of each gamma, c pair. We use exponential spacing between each step of gamma, between 1e-8 and 1e4. Same as for c."
   ]
  },
  {
   "cell_type": "code",
   "execution_count": 302,
   "metadata": {},
   "outputs": [
    {
     "name": "stdout",
     "output_type": "stream",
     "text": [
      "The best parameters are {'C': 1, 'gamma': 1e-07} with a score of 0.983\n"
     ]
    }
   ],
   "source": [
    "#Same procedure as SVM kernel, only difference in model and parameters\n",
    "#Selecting parameters to try in Grid CV\n",
    "C_range = gamma_range = [10**x for x in range(-8, 4)]\n",
    "parameters = {'gamma':gamma_range, \n",
    "              'C':C_range}\n",
    "\n",
    "#Make SVM\n",
    "svc = svm.SVC(kernel=\"rbf\")\n",
    "\n",
    "#Perform CV\n",
    "#cv = StratifiedShuffleSplit(n_splits=5, test_size=0.2, random_state=42)\n",
    "cv = StratifiedKFold(n_splits=5, random_state=42)\n",
    "grid = GridSearchCV(svc, parameters, cv=5)\n",
    "grid.fit(X_train, y_train)\n",
    "\n",
    "print(\"The best parameters are %s with a score of %0.3f\"\n",
    "      % (grid.best_params_, grid.best_score_))"
   ]
  },
  {
   "cell_type": "code",
   "execution_count": 303,
   "metadata": {},
   "outputs": [
    {
     "name": "stdout",
     "output_type": "stream",
     "text": [
      "The test set classification accuracy is 0.979 and it took 173.8 microseconds to train the model\n"
     ]
    }
   ],
   "source": [
    "print(\"The test set classification accuracy is %0.3f and it took %0.1f microseconds to train the model\"\n",
    "    % testing_accuracy(svm.SVC(kernel=\"rbf\", gamma=10**-7, C=1)))"
   ]
  },
  {
   "cell_type": "markdown",
   "metadata": {},
   "source": [
    "# Summarizing results"
   ]
  },
  {
   "cell_type": "markdown",
   "metadata": {},
   "source": [
    "The below table summarizes the results for the different SVMs trained in the previous section.\n",
    "\n",
    "\n",
    "| Kernel | Hyperparameters | Training Time (microseconds) | Training Accuracy | Test Accuracy | \n",
    "| --- | --- | --- | --- | --- | \n",
    "| Linear | C=1e-07 | 9 | 0.981 | 0.971 | \n",
    "| Poly | C=1e-08, degree=2 | 138 | 0.982 | 0.981 | \n",
    "| RBF | C=1, gamma=1e-06 |165 | 0.983 | 0.979 | \n",
    "\n",
    "In terms of accuracy, all models performed well in the 0.97-0.98 range and the relative differences are thus small. All have basically the same training set error (0.981, 0.982, 0.983), what separates them is their ability to transfer classification accuracy onto unseen data (the test set). Here linear SVM does the worst, dropping one percentage point in classification accuracy on the test set (which does not seem particularly extreme, to be fair), whilst the polynomial kernel does the best dropping only one tenth of a percentage point (which means test accuarcy is basically the same as the training set).\n",
    "\n",
    "In terms of training time, polynomial and rbf are similar–with poly being slightly faster, ~15% on the training set with N=1000. Linear SVM is one order of magnitude faster, training in 9 microseconds.\n",
    "\n",
    "In conclusion, the RBF kernel is strictly dominated in these results. Choosing a model then, comes down to a tradeoff between the training time advantages offered by the linear kernel and test accuracy offered by the poly kernel. Which is best depends on the context, for example, the cross validation procedure for the poly kernel would take prohibitively long on my computer if I had used the entire dataset (it has the addtional disadvantage of requiring 2 hyperparameters taking requiring the square as many models to be evaluated, at the already slower training time, as compared to the linear model). Whereas, if we are in a context where every last decimal of accuracy matters or computation is less of an issue, poly is the way to go for this problem.\n",
    "\n",
    "As an aside, it is interesting to consider what the optimal hyperparameters can tell us about the model/the dataset. It seems that a good decision boundary for this classification problem needs to be quite smooth, almost linear. For example, for the polynomial c is small and the polynomial is of degree 2 It would thus seem that the polynomial chose the solution that was as close to being linear as possible, yet that slight non-linearity improved performance. In the case of the RBF kernel the gamma is small (gamma=1e-06)–meaning that data froma wider range is taken into account, resulting in a smoother decision boundary– whilst C is large relative to the other models. We can thus infer that the gamma is doing the main work to prevent overfitting, by keeping the decision boundary sufficiently smooth to generalize to the test set."
   ]
  },
  {
   "cell_type": "markdown",
   "metadata": {},
   "source": [
    "### Resources:    \n",
    "mfathirirhas. (2018). LoadMNIST.py.\n",
    "\n",
    "    Retrieved\n",
    "    https://gist.github.com/MFathirIrhas/f24d61d134b014da029a\n",
    "    \n",
    "    \n",
    "LeCunn, Y. (n.d.) THE MNIST DATABASE of handwritten digits.\n",
    "    \n",
    "    Retrieved\n",
    "    https://gist.github.com/MFathirIrhas/f24d61d134b014da029a\n",
    "    \n",
    "    \n",
    "scikit-learn.org (n.d). scikit-learn v0.21.3 documentation: 1.4. Support Vector Machines.\n",
    "\n",
    "    Retrieved\n",
    "    https://scikit-learn.org/stable/modules/svm.html#svm-kernels"
   ]
  },
  {
   "cell_type": "code",
   "execution_count": null,
   "metadata": {},
   "outputs": [],
   "source": []
  }
 ],
 "metadata": {
  "kernelspec": {
   "display_name": "Python 3",
   "language": "python",
   "name": "python3"
  },
  "language_info": {
   "codemirror_mode": {
    "name": "ipython",
    "version": 3
   },
   "file_extension": ".py",
   "mimetype": "text/x-python",
   "name": "python",
   "nbconvert_exporter": "python",
   "pygments_lexer": "ipython3",
   "version": "3.6.9"
  }
 },
 "nbformat": 4,
 "nbformat_minor": 2
}
